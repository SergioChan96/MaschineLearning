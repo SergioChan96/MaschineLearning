{
 "cells": [
  {
   "cell_type": "code",
   "execution_count": 45,
   "id": "0ddcbf9b-9c4d-4fbd-8afa-0d5318680a68",
   "metadata": {},
   "outputs": [
    {
     "name": "stdout",
     "output_type": "stream",
     "text": [
      "The version_information extension is already loaded. To reload it, use:\n",
      "  %reload_ext version_information\n"
     ]
    }
   ],
   "source": [
    "import matplotlib.pyplot as plt\n",
    "import numpy as np\n",
    "import pandas as pd\n",
    "import zipfile as zip\n",
    "import json as jon\n",
    "\n",
    "import seaborn as sns\n",
    "\n",
    "%matplotlib inline\n",
    "\n",
    "%load_ext version_information"
   ]
  },
  {
   "cell_type": "code",
   "execution_count": 84,
   "id": "0b6dc495-194a-466a-b109-17d7d1388bf0",
   "metadata": {},
   "outputs": [],
   "source": [
    "#ZipFile Pfad mit r davor um den Pfad als raw String einzulesen.\n",
    "zip_file_path = r\"C:\\Users\\simon\\Downloads\\foods-2011-10-03.json.zip\"\n",
    "\n",
    "with zip.ZipFile(zip_file_path, 'r') as zip_ref:\n",
    "    zip_ref.extractall('ZipFile')\n",
    "\n",
    "json_file_path = r\"ZipFile\\foods-2011-10-03.json\"\n",
    "\n",
    "with open(json_file_path, 'r') as json_file:\n",
    "    data = jon.load(json_file)\n"
   ]
  },
  {
   "cell_type": "code",
   "execution_count": 92,
   "id": "2088518b-588b-4d2c-88db-9231859c4a2f",
   "metadata": {},
   "outputs": [
    {
     "name": "stdout",
     "output_type": "stream",
     "text": [
      "['id', 'description', 'tags', 'manufacturer', 'group', 'portions', 'nutrients']\n"
     ]
    }
   ],
   "source": [
    "# Beliebiges Nahrungsmittel wählen\n",
    "\n",
    "randomFood = data[100]\n",
    "\n",
    "#Keys des ausgewählten Nahrungsmittels:\n",
    "print(list(randomFood.keys()))"
   ]
  },
  {
   "cell_type": "code",
   "execution_count": 116,
   "id": "cac008cb-40ee-4c71-9725-c06cea3e5891",
   "metadata": {},
   "outputs": [
    {
     "data": {
      "text/plain": [
       "{'value': 0.18,\n",
       " 'units': 'mcg',\n",
       " 'description': 'Vitamin B-12',\n",
       " 'group': 'Vitamins'}"
      ]
     },
     "execution_count": 116,
     "metadata": {},
     "output_type": "execute_result"
    }
   ],
   "source": [
    "#Nutrient Dictionary für randomFood extrahieren\n",
    "nutrientDic = randomFood.get(\"nutrients\" , {})\n",
    "\n",
    "#Beliebiges Nutrient auswählen und anzeigen:\n",
    "nutrientDic[42]"
   ]
  },
  {
   "cell_type": "code",
   "execution_count": null,
   "id": "a1f6de55-195c-48f5-9ba6-fad3e741f9e1",
   "metadata": {},
   "outputs": [],
   "source": [
    "# DOPPELTE FELDNAMEN ENTFERNEN FEHLT"
   ]
  },
  {
   "cell_type": "code",
   "execution_count": 143,
   "id": "1b237b18-d7e4-4d78-8365-2be59ae6a265",
   "metadata": {},
   "outputs": [
    {
     "data": {
      "text/html": [
       "<div>\n",
       "<style scoped>\n",
       "    .dataframe tbody tr th:only-of-type {\n",
       "        vertical-align: middle;\n",
       "    }\n",
       "\n",
       "    .dataframe tbody tr th {\n",
       "        vertical-align: top;\n",
       "    }\n",
       "\n",
       "    .dataframe thead th {\n",
       "        text-align: right;\n",
       "    }\n",
       "</style>\n",
       "<table border=\"1\" class=\"dataframe\">\n",
       "  <thead>\n",
       "    <tr style=\"text-align: right;\">\n",
       "      <th></th>\n",
       "      <th>description</th>\n",
       "      <th>group</th>\n",
       "      <th>id</th>\n",
       "      <th>manufacturer</th>\n",
       "    </tr>\n",
       "  </thead>\n",
       "  <tbody>\n",
       "    <tr>\n",
       "      <th>0</th>\n",
       "      <td>Cheese, caraway</td>\n",
       "      <td>Dairy and Egg Products</td>\n",
       "      <td>1008</td>\n",
       "      <td></td>\n",
       "    </tr>\n",
       "    <tr>\n",
       "      <th>1</th>\n",
       "      <td>Cheese, cheddar</td>\n",
       "      <td>Dairy and Egg Products</td>\n",
       "      <td>1009</td>\n",
       "      <td></td>\n",
       "    </tr>\n",
       "    <tr>\n",
       "      <th>2</th>\n",
       "      <td>Cheese, edam</td>\n",
       "      <td>Dairy and Egg Products</td>\n",
       "      <td>1018</td>\n",
       "      <td></td>\n",
       "    </tr>\n",
       "    <tr>\n",
       "      <th>3</th>\n",
       "      <td>Cheese, feta</td>\n",
       "      <td>Dairy and Egg Products</td>\n",
       "      <td>1019</td>\n",
       "      <td></td>\n",
       "    </tr>\n",
       "    <tr>\n",
       "      <th>4</th>\n",
       "      <td>Cheese, mozzarella, part skim milk</td>\n",
       "      <td>Dairy and Egg Products</td>\n",
       "      <td>1028</td>\n",
       "      <td></td>\n",
       "    </tr>\n",
       "  </tbody>\n",
       "</table>\n",
       "</div>"
      ],
      "text/plain": [
       "                          description                   group    id  \\\n",
       "0                     Cheese, caraway  Dairy and Egg Products  1008   \n",
       "1                     Cheese, cheddar  Dairy and Egg Products  1009   \n",
       "2                        Cheese, edam  Dairy and Egg Products  1018   \n",
       "3                        Cheese, feta  Dairy and Egg Products  1019   \n",
       "4  Cheese, mozzarella, part skim milk  Dairy and Egg Products  1028   \n",
       "\n",
       "  manufacturer  \n",
       "0               \n",
       "1               \n",
       "2               \n",
       "3               \n",
       "4               "
      ]
     },
     "execution_count": 143,
     "metadata": {},
     "output_type": "execute_result"
    }
   ],
   "source": [
    "# Erstellen von info DataFrame:\n",
    "\n",
    "info_data = []\n",
    "for item in data:\n",
    "    info_data.append({\n",
    "        'description': item.get('description'),\n",
    "        'group': item.get('group'),\n",
    "        'id': item.get('id'),\n",
    "        'manufacturer': item.get('manufacturer')\n",
    "    })\n",
    "\n",
    "df_info = pd.DataFrame(info_data)\n",
    "\n",
    "df_info.head()"
   ]
  }
 ],
 "metadata": {
  "kernelspec": {
   "display_name": "Python 3 (ipykernel)",
   "language": "python",
   "name": "python3"
  },
  "language_info": {
   "codemirror_mode": {
    "name": "ipython",
    "version": 3
   },
   "file_extension": ".py",
   "mimetype": "text/x-python",
   "name": "python",
   "nbconvert_exporter": "python",
   "pygments_lexer": "ipython3",
   "version": "3.12.4"
  }
 },
 "nbformat": 4,
 "nbformat_minor": 5
}
