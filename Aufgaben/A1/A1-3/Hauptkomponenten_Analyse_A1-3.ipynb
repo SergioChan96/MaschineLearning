{
 "cells": [
  {
   "cell_type": "code",
   "execution_count": 4,
   "metadata": {},
   "outputs": [],
   "source": [
    "import matplotlib.pyplot as plt\n",
    "import numpy as np\n",
    "import pandas as pd\n",
    "\n",
    "import seaborn as sns\n",
    "\n",
    "%load_ext version_information"
   ]
  },
  {
   "cell_type": "code",
   "execution_count": 5,
   "metadata": {},
   "outputs": [],
   "source": [
    "url = 'https://archive.ics.uci.edu/ml/machine-learning-databases/housing/housing.data'\n",
    "cols = ['CRIM','ZN','INDUS','CHAS','NOX','RM','AGE','DIS','RAD','TAX','PTRATIO','B',\n",
    "        'LSTAT','TGT']\n",
    "boston = pd.read_csv(url, sep=' ', skipinitialspace=True, header=None, names=cols, \n",
    "                     index_col=False)"
   ]
  },
  {
   "cell_type": "markdown",
   "metadata": {},
   "source": [
    "### Hauptkomponentenanalyse \n",
    "\n",
    "Vorgehen:\n",
    "1. Gegeben eine Menge von $n$ $d$-dimensionalen Datenpunkten $\\mathbf{x}_i$, berechnen Sie zuerst deren Mittelwert $\\boldsymbol{\\mu}_x = \\frac{1}{n} \\sum_{i=1}^n \\mathbf{x}_i$ für jedes einzelne Merkmal und ziehen ihn von allen Datenpunkten ab (Zentrierung).\n",
    "2. Normieren Sie dann alle Merkmale so, dass sie eine Varianz von 1 haben. Dieser Schritt ist optional, aber meist vorteilhaft.\n",
    "3. Kopieren Sie alle $\\mathbf{x}_i$ als Reihen in eine $n \\times d$-Matrix $X$, die sog. Daten- oder Designmatrix.\n",
    "4. Zur Lösung des Eigenwertproblens berechnen Sie die Singulärwertzerlegung von $X$ (z.B. mit `numpy.linalg.svd()`): $$ X = UDV^\\top $$\n",
    "Wer nicht weiß, was eine Singuärwertzerlegung ist oder macht, der lese bitte in den entsprechenden Wikipedia-Einträgen nach. Im Prinzip könnte man auch direkt die Eigenwerte der Kovarianzmatrix (s. Folie 12) berechnen (z.B. mit `numpy.linalg.eig()`), diese Methode ist aber meist aufwändiger und numerisch weniger stabil.\n",
    "5. Die ersten $r$ Basisvektoren $\\mathbf{q}_i$  (d.h die ersten $r$ Hauptkomponenten) sind die ersten $r$ Spalten der orthogonalen $d \\times d$-Matrix $V$.\n",
    "6. Die Projektionen $a_i$ der Daten $\\mathbf{x}_i$ auf die ersten $r$ Basisvektoren $\\mathbf{q}_i$ (d.h die neuen Variablenwerte im neuen Koordinatensystem) sind die die ersten $r$ Spalten der $n \\times d$-Matrix $UD$.\n",
    "7. Die Standardabweichungen entlang der Hauptkomponenten $\\mathbf{q}_i$ sind die Diagonalelemente der Diagonalmatrix $D$ geteilt durch $\\sqrt{n - 1}$."
   ]
  },
  {
   "cell_type": "markdown",
   "metadata": {},
   "source": [
    "### Implementierung der Hauptkomponentenanalyse"
   ]
  },
  {
   "cell_type": "code",
   "execution_count": 20,
   "metadata": {},
   "outputs": [],
   "source": [
    "\n",
    "def pca(X , r):\n",
    "\n",
    "    #X: Dataset\n",
    "    #r: In der Theorie Anzahl an zu ermittelnden Hauptkomponenten\n",
    "\n",
    "    #Schritt 1 Zentrieren\n",
    "    mean_X = np.mean(X , axis = 0)\n",
    "    centered_X = X - mean_X\n",
    "\n",
    "\n",
    "    #Schritt 2 Normalisieren\n",
    "    std_X = np.std(centered_X, axis = 0)\n",
    "\n",
    "    normalized_X = centered_X - std_X\n",
    "\n",
    "\n",
    "    #Schritt 3/4 Singulärwertszerlegung\n",
    "    U, D, VT = np.linalg.svd(normalized_X)\n",
    "    return U , D , VT\n",
    "\n",
    "#Schritt 5 / 6 / 7\n",
    "#Vielleicht verstehst du hier was mit den Schritten gemeint ist\n"
   ]
  },
  {
   "cell_type": "code",
   "execution_count": 19,
   "metadata": {},
   "outputs": [
    {
     "data": {
      "text/plain": [
       "(array([[-0.05244686,  0.00259152,  0.00628659, ..., -0.04634083,\n",
       "         -0.04603041, -0.04689946],\n",
       "        [-0.0617254 ,  0.00594777,  0.04706055, ..., -0.03469895,\n",
       "         -0.035012  , -0.035232  ],\n",
       "        [-0.06226841,  0.00467303,  0.02578186, ...,  0.00107205,\n",
       "          0.00105316,  0.00331922],\n",
       "        ...,\n",
       "        [-0.05599688,  0.00371407,  0.05635311, ...,  0.97456394,\n",
       "         -0.02427646, -0.02232459],\n",
       "        [-0.05616289,  0.00245684,  0.05461678, ..., -0.02419921,\n",
       "          0.97674016, -0.02205056],\n",
       "        [-0.05625549,  0.0033559 ,  0.04821273, ..., -0.02247235,\n",
       "         -0.02227701,  0.97490636]]),\n",
       " array([5.50773208e+03, 2.77399629e+03, 6.50558564e+02, 5.06301444e+02,\n",
       "        1.99860810e+02, 1.61468128e+02, 1.06062113e+02, 8.78935284e+01,\n",
       "        6.70870143e+01, 4.44784872e+01, 2.78760514e+01, 1.06555983e+01,\n",
       "        5.49772651e+00, 1.31254695e+00]),\n",
       " array([[ 3.96772939e-02,  5.37319545e-02,  3.43354808e-02,\n",
       "          7.73290265e-04,  5.63119346e-04,  1.65584721e-03,\n",
       "          1.25745575e-01,  3.62655628e-03,  4.77829929e-02,\n",
       "          9.66469099e-01,  9.37628090e-03,  2.01838958e-01,\n",
       "          3.22893928e-02,  1.77675958e-02],\n",
       "        [ 5.91817296e-04,  1.32048304e-01, -1.04732448e-03,\n",
       "          1.03625152e-03, -1.76918679e-05,  3.66833357e-03,\n",
       "          2.38723412e-02,  1.42608660e-02, -9.28034244e-03,\n",
       "         -2.12934927e-01,  3.27201799e-03,  9.65595541e-01,\n",
       "          1.60882283e-03,  6.29170594e-02],\n",
       "        [-5.31333914e-03, -7.26755777e-01,  8.04407729e-02,\n",
       "          1.85247515e-04,  1.57115955e-03, -7.73773747e-03,\n",
       "          6.59762073e-01, -5.17523224e-02, -5.62773412e-03,\n",
       "         -6.42927026e-02,  1.00717208e-02,  7.64639732e-02,\n",
       "          7.72888727e-02, -1.05893564e-01],\n",
       "        [ 9.62430757e-02,  6.32603296e-01,  4.47350937e-02,\n",
       "          4.11844782e-03,  1.51162762e-03,  1.50124351e-02,\n",
       "          7.16154012e-01,  3.08390593e-02,  8.85390830e-03,\n",
       "         -1.11784022e-01, -9.00702110e-04, -1.40939663e-01,\n",
       "          1.05430900e-01,  1.75847497e-01],\n",
       "        [-1.80144954e-01, -1.64434228e-01, -3.22008712e-02,\n",
       "          6.80721563e-03,  9.36833262e-05,  5.13485148e-02,\n",
       "          1.49138725e-02, -1.96107405e-02,  6.62437110e-02,\n",
       "          1.68744540e-02, -4.49470740e-02, -2.91681771e-02,\n",
       "         -4.15586061e-01,  8.69440332e-01],\n",
       "        [ 9.29991545e-01, -1.16993850e-01, -1.88108755e-02,\n",
       "          3.21808917e-03,  3.67103817e-04,  1.47395472e-02,\n",
       "         -9.88162009e-02,  1.90178505e-02,  2.26329456e-01,\n",
       "         -3.68990885e-02,  3.50965119e-02, -2.45310682e-03,\n",
       "          1.12754813e-01,  2.10195754e-01],\n",
       "        [ 1.34063641e-01,  4.66663913e-02, -6.61705153e-01,\n",
       "         -1.18678769e-02, -4.55620333e-03,  5.40303811e-03,\n",
       "          1.56990993e-01, -3.90728089e-02,  1.03485979e-01,\n",
       "          1.43648908e-02, -4.99283031e-02,  1.49145176e-02,\n",
       "         -6.38487118e-01, -3.07140110e-01],\n",
       "        [ 2.49930534e-01,  4.84052516e-02,  5.77204789e-01,\n",
       "         -1.61669526e-03,  2.09876263e-03, -4.24620448e-03,\n",
       "          1.54528382e-02, -9.52134256e-02, -5.21822714e-01,\n",
       "          1.15822717e-02, -7.92008709e-02,  2.93829643e-03,\n",
       "         -5.41725006e-01, -1.43235357e-01],\n",
       "        [-1.06343965e-01,  5.59111140e-02,  4.60931813e-01,\n",
       "          6.48122813e-03,  3.19852066e-03,  4.61660001e-03,\n",
       "          8.23221215e-03, -4.67837078e-03,  7.91597279e-01,\n",
       "         -4.43355314e-02,  1.61410308e-01,  2.56078890e-03,\n",
       "         -2.90152064e-01, -1.84671625e-01],\n",
       "        [ 4.12305180e-03, -2.53602879e-02, -4.06391321e-02,\n",
       "          1.06356838e-03, -1.10832151e-02,  3.67583540e-02,\n",
       "          1.41329325e-02,  4.67355476e-01, -1.74625343e-01,\n",
       "          3.76460818e-03,  8.59621896e-01, -8.75985168e-03,\n",
       "         -8.79370089e-02,  1.80180782e-02],\n",
       "        [-1.92216509e-03,  4.78774735e-02, -6.04015845e-02,\n",
       "         -1.91827201e-02, -1.03144629e-03, -4.81281129e-02,\n",
       "         -1.60451868e-02, -8.73187662e-01, -4.05680993e-02,\n",
       "         -4.49529288e-04,  4.71789108e-01,  1.96551833e-03,\n",
       "          5.14394230e-02,  4.21353952e-02],\n",
       "        [-5.44772442e-03, -2.60386050e-03,  4.31399316e-03,\n",
       "         -4.84016394e-03,  8.46769161e-03,  9.96509663e-01,\n",
       "         -7.39472000e-03, -5.96774982e-02, -8.95467594e-03,\n",
       "          5.35164667e-05, -7.82212282e-03,  7.04381996e-04,\n",
       "          2.69177363e-02, -4.83298422e-02],\n",
       "        [-4.24347703e-04, -4.77018524e-05,  1.11085977e-02,\n",
       "         -9.99359334e-01, -2.50091611e-02, -3.22329699e-03,\n",
       "          1.53348358e-03,  1.80647849e-02,  6.69882112e-03,\n",
       "         -4.12588371e-04, -6.75310986e-03,  1.69548534e-04,\n",
       "          3.42878865e-03,  9.50622828e-03],\n",
       "        [-2.16651417e-05,  6.26432139e-05,  6.17810677e-03,\n",
       "          2.50511095e-02, -9.99569072e-01,  8.16737099e-03,\n",
       "          1.25762434e-03, -5.30308646e-03,  2.82127336e-03,\n",
       "          5.26348114e-05, -9.30946492e-03,  4.32387288e-05,\n",
       "          2.21018670e-03, -1.15145344e-04]]))"
      ]
     },
     "execution_count": 19,
     "metadata": {},
     "output_type": "execute_result"
    }
   ],
   "source": [
    "pca(boston , 2)"
   ]
  }
 ],
 "metadata": {
  "kernelspec": {
   "display_name": "base",
   "language": "python",
   "name": "python3"
  },
  "language_info": {
   "codemirror_mode": {
    "name": "ipython",
    "version": 3
   },
   "file_extension": ".py",
   "mimetype": "text/x-python",
   "name": "python",
   "nbconvert_exporter": "python",
   "pygments_lexer": "ipython3",
   "version": "3.12.4"
  }
 },
 "nbformat": 4,
 "nbformat_minor": 2
}
