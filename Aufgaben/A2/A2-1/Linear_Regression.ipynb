{
 "cells": [
  {
   "metadata": {},
   "cell_type": "markdown",
   "source": "# Arbeitsblatt 2: Lineare Regression, Eigengesichter und Bayes-Klassifikator"
  },
  {
   "metadata": {},
   "cell_type": "markdown",
   "source": [
    "## 1. Linear Regression on Fish Data\n",
    "\n",
    "The following data-set contains the number of fish groups of camper caught in a state park (taken from https://stats.idre.ucla.edu/r/dae/zip/). Your task here is to predict the number of fish caught by a fishing party from the following information: \n",
    "\n",
    "* how many people are in the group\n",
    "* the number children in the group\n",
    "* the use of live bait\n",
    "* whether the group came with a camper to the park. \n",
    "\n",
    "We have a small data set, of 250 groups, which visited a state park and provided. For comparison the data set is already split into a training set and testset."
   ]
  },
  {
   "metadata": {
    "ExecuteTime": {
     "end_time": "2024-11-08T10:44:30.998360Z",
     "start_time": "2024-11-08T10:44:30.985837Z"
    }
   },
   "cell_type": "code",
   "source": [
    "import math\n",
    "import matplotlib.pyplot as plt\n",
    "import numpy as np\n",
    "import pandas as pd\n",
    "import scipy\n",
    "from numpy.ma.core import indices\n",
    "from sklearn.linear_model import LinearRegression\n",
    "from sklearn.model_selection import train_test_split\n",
    "%matplotlib inline"
   ],
   "outputs": [],
   "execution_count": 16
  },
  {
   "metadata": {
    "ExecuteTime": {
     "end_time": "2024-11-06T14:06:38.923161Z",
     "start_time": "2024-11-06T14:06:38.901632Z"
    }
   },
   "cell_type": "code",
   "source": [
    "# The Fish Data Set\n",
    "# See example 2 from https://stats.idre.ucla.edu/r/dae/zip/ \n",
    "#\"nofish\",\"livebait\",\"camper\",\"persons\",\"child\",\"xb\",\"zg\",\"count\"\n",
    "import os\n",
    "from urllib.request import urlretrieve\n",
    "\n",
    "if not os.path.isfile('fishing.npz'):\n",
    "    print(\"Downloading\")\n",
    "    urlretrieve('http://www-home.htwg-konstanz.de/~oduerr/data/fishing.npz', filename='fishing.npz')\n",
    "d = np.load('fishing.npz')\n",
    "Xt = d['Xt']  #\"livebait\",\"camper\",\"persons\",\"child\"\n",
    "Xte = d['Xte']  #test_data\n",
    "yt = d['yt']  #n fishes\n",
    "yte = d['yte']  #\n",
    "\n",
    "Xt"
   ],
   "outputs": [
    {
     "data": {
      "text/plain": [
       "array([[1., 0., 4., 0.],\n",
       "       [1., 1., 2., 0.],\n",
       "       [1., 1., 3., 0.],\n",
       "       [1., 1., 3., 2.],\n",
       "       [1., 1., 4., 1.],\n",
       "       [1., 0., 1., 0.],\n",
       "       [1., 0., 3., 1.],\n",
       "       [1., 0., 3., 0.],\n",
       "       [1., 1., 3., 2.],\n",
       "       [1., 1., 2., 1.],\n",
       "       [1., 0., 2., 0.],\n",
       "       [1., 1., 2., 0.],\n",
       "       [1., 0., 4., 1.],\n",
       "       [1., 1., 1., 0.],\n",
       "       [1., 0., 4., 1.],\n",
       "       [1., 1., 3., 0.],\n",
       "       [1., 1., 2., 0.],\n",
       "       [1., 1., 4., 1.],\n",
       "       [1., 0., 4., 0.],\n",
       "       [0., 0., 2., 0.],\n",
       "       [1., 1., 3., 2.],\n",
       "       [1., 1., 1., 0.],\n",
       "       [1., 0., 2., 0.],\n",
       "       [1., 0., 2., 0.],\n",
       "       [1., 1., 1., 0.],\n",
       "       [1., 1., 3., 0.],\n",
       "       [1., 0., 4., 3.],\n",
       "       [1., 1., 1., 0.],\n",
       "       [1., 0., 4., 0.],\n",
       "       [0., 0., 4., 1.],\n",
       "       [1., 1., 4., 2.],\n",
       "       [1., 1., 1., 0.],\n",
       "       [0., 0., 3., 2.],\n",
       "       [1., 0., 4., 2.],\n",
       "       [1., 1., 3., 0.],\n",
       "       [1., 1., 1., 0.],\n",
       "       [1., 1., 4., 3.],\n",
       "       [0., 1., 4., 3.],\n",
       "       [1., 0., 2., 0.],\n",
       "       [0., 1., 3., 2.],\n",
       "       [1., 1., 3., 1.],\n",
       "       [0., 0., 3., 0.],\n",
       "       [0., 0., 2., 0.],\n",
       "       [1., 0., 1., 0.],\n",
       "       [0., 0., 3., 2.],\n",
       "       [1., 1., 4., 2.],\n",
       "       [1., 1., 2., 1.],\n",
       "       [1., 0., 2., 1.],\n",
       "       [1., 1., 1., 0.],\n",
       "       [0., 1., 2., 0.],\n",
       "       [1., 1., 2., 1.],\n",
       "       [1., 1., 3., 1.],\n",
       "       [1., 1., 3., 1.],\n",
       "       [1., 1., 2., 0.],\n",
       "       [1., 0., 3., 2.],\n",
       "       [1., 1., 4., 0.],\n",
       "       [0., 0., 4., 1.],\n",
       "       [1., 0., 1., 0.],\n",
       "       [1., 0., 2., 1.],\n",
       "       [1., 0., 3., 0.],\n",
       "       [1., 1., 4., 0.],\n",
       "       [1., 1., 4., 2.],\n",
       "       [1., 0., 4., 2.],\n",
       "       [1., 1., 3., 1.],\n",
       "       [1., 0., 3., 1.],\n",
       "       [0., 0., 1., 0.],\n",
       "       [1., 0., 1., 0.],\n",
       "       [1., 1., 1., 0.],\n",
       "       [1., 1., 2., 1.],\n",
       "       [1., 1., 1., 0.],\n",
       "       [1., 1., 3., 0.],\n",
       "       [1., 1., 1., 0.],\n",
       "       [1., 1., 3., 2.],\n",
       "       [1., 1., 3., 1.],\n",
       "       [0., 0., 3., 1.],\n",
       "       [1., 0., 2., 0.],\n",
       "       [1., 1., 2., 0.],\n",
       "       [1., 1., 2., 0.],\n",
       "       [1., 1., 2., 1.],\n",
       "       [1., 1., 2., 1.],\n",
       "       [1., 1., 3., 2.],\n",
       "       [1., 0., 2., 0.],\n",
       "       [1., 1., 3., 2.],\n",
       "       [1., 0., 3., 0.],\n",
       "       [1., 1., 4., 2.],\n",
       "       [1., 0., 2., 1.],\n",
       "       [1., 1., 1., 0.],\n",
       "       [1., 0., 1., 0.],\n",
       "       [0., 1., 4., 3.],\n",
       "       [1., 1., 4., 0.],\n",
       "       [1., 0., 1., 0.],\n",
       "       [1., 1., 2., 0.],\n",
       "       [1., 1., 2., 1.],\n",
       "       [1., 0., 2., 1.],\n",
       "       [1., 0., 4., 0.],\n",
       "       [1., 0., 2., 0.],\n",
       "       [1., 1., 3., 1.],\n",
       "       [1., 1., 3., 1.],\n",
       "       [1., 1., 3., 0.],\n",
       "       [1., 1., 1., 0.],\n",
       "       [1., 0., 4., 3.],\n",
       "       [1., 0., 4., 2.],\n",
       "       [1., 0., 1., 0.],\n",
       "       [1., 1., 1., 0.],\n",
       "       [1., 0., 1., 0.],\n",
       "       [1., 0., 2., 0.],\n",
       "       [1., 1., 2., 0.],\n",
       "       [1., 0., 1., 0.],\n",
       "       [1., 1., 2., 1.],\n",
       "       [1., 0., 2., 1.],\n",
       "       [1., 1., 4., 1.],\n",
       "       [1., 0., 1., 0.],\n",
       "       [1., 0., 1., 0.],\n",
       "       [1., 0., 4., 2.],\n",
       "       [1., 1., 3., 0.],\n",
       "       [1., 0., 1., 0.],\n",
       "       [0., 1., 4., 0.],\n",
       "       [1., 0., 2., 0.],\n",
       "       [0., 1., 2., 0.],\n",
       "       [1., 1., 2., 1.],\n",
       "       [1., 0., 4., 1.],\n",
       "       [0., 0., 2., 0.],\n",
       "       [1., 1., 4., 2.],\n",
       "       [1., 0., 1., 0.],\n",
       "       [0., 0., 1., 0.],\n",
       "       [1., 0., 3., 1.],\n",
       "       [1., 0., 2., 1.],\n",
       "       [1., 0., 4., 1.],\n",
       "       [1., 1., 4., 1.],\n",
       "       [1., 1., 1., 0.],\n",
       "       [1., 1., 4., 0.],\n",
       "       [1., 0., 4., 3.],\n",
       "       [1., 1., 2., 1.],\n",
       "       [1., 1., 1., 0.],\n",
       "       [1., 0., 2., 0.],\n",
       "       [1., 0., 1., 0.],\n",
       "       [1., 1., 1., 0.],\n",
       "       [1., 1., 3., 2.],\n",
       "       [1., 1., 3., 2.],\n",
       "       [0., 1., 3., 2.],\n",
       "       [1., 0., 3., 0.],\n",
       "       [1., 1., 1., 0.],\n",
       "       [0., 0., 2., 1.],\n",
       "       [1., 1., 1., 0.],\n",
       "       [1., 1., 3., 2.],\n",
       "       [1., 1., 4., 1.],\n",
       "       [0., 0., 4., 2.],\n",
       "       [0., 0., 4., 1.],\n",
       "       [1., 1., 2., 1.],\n",
       "       [1., 1., 4., 1.],\n",
       "       [1., 1., 1., 0.],\n",
       "       [1., 1., 4., 0.],\n",
       "       [1., 1., 3., 0.],\n",
       "       [1., 0., 3., 1.],\n",
       "       [1., 1., 2., 1.],\n",
       "       [1., 1., 2., 0.],\n",
       "       [1., 0., 4., 2.],\n",
       "       [1., 1., 1., 0.],\n",
       "       [1., 1., 2., 1.],\n",
       "       [1., 1., 4., 3.],\n",
       "       [1., 1., 4., 3.],\n",
       "       [1., 0., 3., 0.],\n",
       "       [1., 1., 4., 3.],\n",
       "       [1., 1., 4., 1.],\n",
       "       [1., 1., 2., 1.],\n",
       "       [1., 1., 4., 0.],\n",
       "       [1., 1., 4., 0.],\n",
       "       [1., 1., 1., 0.],\n",
       "       [0., 1., 2., 1.],\n",
       "       [1., 1., 3., 0.],\n",
       "       [0., 0., 2., 0.],\n",
       "       [1., 1., 3., 2.],\n",
       "       [0., 1., 1., 0.],\n",
       "       [1., 1., 4., 0.],\n",
       "       [1., 1., 4., 1.],\n",
       "       [1., 1., 3., 1.],\n",
       "       [1., 1., 1., 0.],\n",
       "       [1., 1., 1., 0.],\n",
       "       [1., 1., 4., 0.],\n",
       "       [0., 1., 2., 1.],\n",
       "       [0., 1., 3., 0.],\n",
       "       [1., 1., 2., 1.],\n",
       "       [0., 0., 3., 0.],\n",
       "       [1., 0., 4., 0.],\n",
       "       [1., 0., 2., 1.],\n",
       "       [1., 1., 1., 0.],\n",
       "       [0., 1., 1., 0.],\n",
       "       [0., 1., 1., 0.],\n",
       "       [1., 0., 4., 2.],\n",
       "       [1., 1., 1., 0.],\n",
       "       [1., 0., 1., 0.],\n",
       "       [1., 1., 2., 1.],\n",
       "       [1., 0., 4., 1.],\n",
       "       [1., 1., 4., 0.],\n",
       "       [1., 0., 4., 3.],\n",
       "       [1., 1., 1., 0.],\n",
       "       [1., 1., 1., 0.],\n",
       "       [1., 1., 3., 0.],\n",
       "       [1., 0., 1., 0.],\n",
       "       [1., 0., 4., 2.]], dtype=float32)"
      ]
     },
     "execution_count": 40,
     "metadata": {},
     "output_type": "execute_result"
    }
   ],
   "execution_count": 40
  },
  {
   "metadata": {},
   "cell_type": "markdown",
   "source": "a) Do a linear regression by creating a design matrix with the intercept term and use the fomulae given in the lecture to determine the coefficients on the training set."
  },
  {
   "metadata": {
    "ExecuteTime": {
     "end_time": "2024-11-06T14:06:39.008535Z",
     "start_time": "2024-11-06T14:06:38.995384Z"
    }
   },
   "cell_type": "code",
   "source": [
    "intercept = np.ones((len(Xte[:, 1]), 1))\n",
    "design_Matrix_test = np.hstack((intercept, Xte))\n",
    "\n",
    "intercept = np.ones((len(Xt[:, 1]), 1))\n",
    "design_matrix = np.hstack((intercept, Xt))\n",
    "design_matrix"
   ],
   "outputs": [
    {
     "data": {
      "text/plain": [
       "array([[1., 1., 0., 4., 0.],\n",
       "       [1., 1., 1., 2., 0.],\n",
       "       [1., 1., 1., 3., 0.],\n",
       "       [1., 1., 1., 3., 2.],\n",
       "       [1., 1., 1., 4., 1.],\n",
       "       [1., 1., 0., 1., 0.],\n",
       "       [1., 1., 0., 3., 1.],\n",
       "       [1., 1., 0., 3., 0.],\n",
       "       [1., 1., 1., 3., 2.],\n",
       "       [1., 1., 1., 2., 1.],\n",
       "       [1., 1., 0., 2., 0.],\n",
       "       [1., 1., 1., 2., 0.],\n",
       "       [1., 1., 0., 4., 1.],\n",
       "       [1., 1., 1., 1., 0.],\n",
       "       [1., 1., 0., 4., 1.],\n",
       "       [1., 1., 1., 3., 0.],\n",
       "       [1., 1., 1., 2., 0.],\n",
       "       [1., 1., 1., 4., 1.],\n",
       "       [1., 1., 0., 4., 0.],\n",
       "       [1., 0., 0., 2., 0.],\n",
       "       [1., 1., 1., 3., 2.],\n",
       "       [1., 1., 1., 1., 0.],\n",
       "       [1., 1., 0., 2., 0.],\n",
       "       [1., 1., 0., 2., 0.],\n",
       "       [1., 1., 1., 1., 0.],\n",
       "       [1., 1., 1., 3., 0.],\n",
       "       [1., 1., 0., 4., 3.],\n",
       "       [1., 1., 1., 1., 0.],\n",
       "       [1., 1., 0., 4., 0.],\n",
       "       [1., 0., 0., 4., 1.],\n",
       "       [1., 1., 1., 4., 2.],\n",
       "       [1., 1., 1., 1., 0.],\n",
       "       [1., 0., 0., 3., 2.],\n",
       "       [1., 1., 0., 4., 2.],\n",
       "       [1., 1., 1., 3., 0.],\n",
       "       [1., 1., 1., 1., 0.],\n",
       "       [1., 1., 1., 4., 3.],\n",
       "       [1., 0., 1., 4., 3.],\n",
       "       [1., 1., 0., 2., 0.],\n",
       "       [1., 0., 1., 3., 2.],\n",
       "       [1., 1., 1., 3., 1.],\n",
       "       [1., 0., 0., 3., 0.],\n",
       "       [1., 0., 0., 2., 0.],\n",
       "       [1., 1., 0., 1., 0.],\n",
       "       [1., 0., 0., 3., 2.],\n",
       "       [1., 1., 1., 4., 2.],\n",
       "       [1., 1., 1., 2., 1.],\n",
       "       [1., 1., 0., 2., 1.],\n",
       "       [1., 1., 1., 1., 0.],\n",
       "       [1., 0., 1., 2., 0.],\n",
       "       [1., 1., 1., 2., 1.],\n",
       "       [1., 1., 1., 3., 1.],\n",
       "       [1., 1., 1., 3., 1.],\n",
       "       [1., 1., 1., 2., 0.],\n",
       "       [1., 1., 0., 3., 2.],\n",
       "       [1., 1., 1., 4., 0.],\n",
       "       [1., 0., 0., 4., 1.],\n",
       "       [1., 1., 0., 1., 0.],\n",
       "       [1., 1., 0., 2., 1.],\n",
       "       [1., 1., 0., 3., 0.],\n",
       "       [1., 1., 1., 4., 0.],\n",
       "       [1., 1., 1., 4., 2.],\n",
       "       [1., 1., 0., 4., 2.],\n",
       "       [1., 1., 1., 3., 1.],\n",
       "       [1., 1., 0., 3., 1.],\n",
       "       [1., 0., 0., 1., 0.],\n",
       "       [1., 1., 0., 1., 0.],\n",
       "       [1., 1., 1., 1., 0.],\n",
       "       [1., 1., 1., 2., 1.],\n",
       "       [1., 1., 1., 1., 0.],\n",
       "       [1., 1., 1., 3., 0.],\n",
       "       [1., 1., 1., 1., 0.],\n",
       "       [1., 1., 1., 3., 2.],\n",
       "       [1., 1., 1., 3., 1.],\n",
       "       [1., 0., 0., 3., 1.],\n",
       "       [1., 1., 0., 2., 0.],\n",
       "       [1., 1., 1., 2., 0.],\n",
       "       [1., 1., 1., 2., 0.],\n",
       "       [1., 1., 1., 2., 1.],\n",
       "       [1., 1., 1., 2., 1.],\n",
       "       [1., 1., 1., 3., 2.],\n",
       "       [1., 1., 0., 2., 0.],\n",
       "       [1., 1., 1., 3., 2.],\n",
       "       [1., 1., 0., 3., 0.],\n",
       "       [1., 1., 1., 4., 2.],\n",
       "       [1., 1., 0., 2., 1.],\n",
       "       [1., 1., 1., 1., 0.],\n",
       "       [1., 1., 0., 1., 0.],\n",
       "       [1., 0., 1., 4., 3.],\n",
       "       [1., 1., 1., 4., 0.],\n",
       "       [1., 1., 0., 1., 0.],\n",
       "       [1., 1., 1., 2., 0.],\n",
       "       [1., 1., 1., 2., 1.],\n",
       "       [1., 1., 0., 2., 1.],\n",
       "       [1., 1., 0., 4., 0.],\n",
       "       [1., 1., 0., 2., 0.],\n",
       "       [1., 1., 1., 3., 1.],\n",
       "       [1., 1., 1., 3., 1.],\n",
       "       [1., 1., 1., 3., 0.],\n",
       "       [1., 1., 1., 1., 0.],\n",
       "       [1., 1., 0., 4., 3.],\n",
       "       [1., 1., 0., 4., 2.],\n",
       "       [1., 1., 0., 1., 0.],\n",
       "       [1., 1., 1., 1., 0.],\n",
       "       [1., 1., 0., 1., 0.],\n",
       "       [1., 1., 0., 2., 0.],\n",
       "       [1., 1., 1., 2., 0.],\n",
       "       [1., 1., 0., 1., 0.],\n",
       "       [1., 1., 1., 2., 1.],\n",
       "       [1., 1., 0., 2., 1.],\n",
       "       [1., 1., 1., 4., 1.],\n",
       "       [1., 1., 0., 1., 0.],\n",
       "       [1., 1., 0., 1., 0.],\n",
       "       [1., 1., 0., 4., 2.],\n",
       "       [1., 1., 1., 3., 0.],\n",
       "       [1., 1., 0., 1., 0.],\n",
       "       [1., 0., 1., 4., 0.],\n",
       "       [1., 1., 0., 2., 0.],\n",
       "       [1., 0., 1., 2., 0.],\n",
       "       [1., 1., 1., 2., 1.],\n",
       "       [1., 1., 0., 4., 1.],\n",
       "       [1., 0., 0., 2., 0.],\n",
       "       [1., 1., 1., 4., 2.],\n",
       "       [1., 1., 0., 1., 0.],\n",
       "       [1., 0., 0., 1., 0.],\n",
       "       [1., 1., 0., 3., 1.],\n",
       "       [1., 1., 0., 2., 1.],\n",
       "       [1., 1., 0., 4., 1.],\n",
       "       [1., 1., 1., 4., 1.],\n",
       "       [1., 1., 1., 1., 0.],\n",
       "       [1., 1., 1., 4., 0.],\n",
       "       [1., 1., 0., 4., 3.],\n",
       "       [1., 1., 1., 2., 1.],\n",
       "       [1., 1., 1., 1., 0.],\n",
       "       [1., 1., 0., 2., 0.],\n",
       "       [1., 1., 0., 1., 0.],\n",
       "       [1., 1., 1., 1., 0.],\n",
       "       [1., 1., 1., 3., 2.],\n",
       "       [1., 1., 1., 3., 2.],\n",
       "       [1., 0., 1., 3., 2.],\n",
       "       [1., 1., 0., 3., 0.],\n",
       "       [1., 1., 1., 1., 0.],\n",
       "       [1., 0., 0., 2., 1.],\n",
       "       [1., 1., 1., 1., 0.],\n",
       "       [1., 1., 1., 3., 2.],\n",
       "       [1., 1., 1., 4., 1.],\n",
       "       [1., 0., 0., 4., 2.],\n",
       "       [1., 0., 0., 4., 1.],\n",
       "       [1., 1., 1., 2., 1.],\n",
       "       [1., 1., 1., 4., 1.],\n",
       "       [1., 1., 1., 1., 0.],\n",
       "       [1., 1., 1., 4., 0.],\n",
       "       [1., 1., 1., 3., 0.],\n",
       "       [1., 1., 0., 3., 1.],\n",
       "       [1., 1., 1., 2., 1.],\n",
       "       [1., 1., 1., 2., 0.],\n",
       "       [1., 1., 0., 4., 2.],\n",
       "       [1., 1., 1., 1., 0.],\n",
       "       [1., 1., 1., 2., 1.],\n",
       "       [1., 1., 1., 4., 3.],\n",
       "       [1., 1., 1., 4., 3.],\n",
       "       [1., 1., 0., 3., 0.],\n",
       "       [1., 1., 1., 4., 3.],\n",
       "       [1., 1., 1., 4., 1.],\n",
       "       [1., 1., 1., 2., 1.],\n",
       "       [1., 1., 1., 4., 0.],\n",
       "       [1., 1., 1., 4., 0.],\n",
       "       [1., 1., 1., 1., 0.],\n",
       "       [1., 0., 1., 2., 1.],\n",
       "       [1., 1., 1., 3., 0.],\n",
       "       [1., 0., 0., 2., 0.],\n",
       "       [1., 1., 1., 3., 2.],\n",
       "       [1., 0., 1., 1., 0.],\n",
       "       [1., 1., 1., 4., 0.],\n",
       "       [1., 1., 1., 4., 1.],\n",
       "       [1., 1., 1., 3., 1.],\n",
       "       [1., 1., 1., 1., 0.],\n",
       "       [1., 1., 1., 1., 0.],\n",
       "       [1., 1., 1., 4., 0.],\n",
       "       [1., 0., 1., 2., 1.],\n",
       "       [1., 0., 1., 3., 0.],\n",
       "       [1., 1., 1., 2., 1.],\n",
       "       [1., 0., 0., 3., 0.],\n",
       "       [1., 1., 0., 4., 0.],\n",
       "       [1., 1., 0., 2., 1.],\n",
       "       [1., 1., 1., 1., 0.],\n",
       "       [1., 0., 1., 1., 0.],\n",
       "       [1., 0., 1., 1., 0.],\n",
       "       [1., 1., 0., 4., 2.],\n",
       "       [1., 1., 1., 1., 0.],\n",
       "       [1., 1., 0., 1., 0.],\n",
       "       [1., 1., 1., 2., 1.],\n",
       "       [1., 1., 0., 4., 1.],\n",
       "       [1., 1., 1., 4., 0.],\n",
       "       [1., 1., 0., 4., 3.],\n",
       "       [1., 1., 1., 1., 0.],\n",
       "       [1., 1., 1., 1., 0.],\n",
       "       [1., 1., 1., 3., 0.],\n",
       "       [1., 1., 0., 1., 0.],\n",
       "       [1., 1., 0., 4., 2.]])"
      ]
     },
     "execution_count": 41,
     "metadata": {},
     "output_type": "execute_result"
    }
   ],
   "execution_count": 41
  },
  {
   "metadata": {
    "ExecuteTime": {
     "end_time": "2024-11-06T14:06:39.149843Z",
     "start_time": "2024-11-06T14:06:39.142736Z"
    }
   },
   "cell_type": "code",
   "source": [
    "w = np.linalg.inv(design_matrix.T @ design_matrix) @ design_matrix.T @ yt\n",
    "w"
   ],
   "outputs": [
    {
     "data": {
      "text/plain": [
       "array([-8.49222821,  2.4822138 ,  2.95430727,  4.64953914, -5.47160051])"
      ]
     },
     "execution_count": 42,
     "metadata": {},
     "output_type": "execute_result"
    }
   ],
   "execution_count": 42
  },
  {
   "metadata": {},
   "cell_type": "markdown",
   "source": [
    "Result: array([-8.49222821,  2.4822138 ,  2.95430727,  4.64953914, -5.47160051])\n",
    "Don't forget the intercept, you should have 5 numbers!"
   ]
  },
  {
   "metadata": {},
   "cell_type": "markdown",
   "source": "b) Repeat a) but this time with LinearRegression from sklearn.linear_model\n"
  },
  {
   "metadata": {
    "ExecuteTime": {
     "end_time": "2024-11-06T14:06:39.406737Z",
     "start_time": "2024-11-06T14:06:39.395057Z"
    }
   },
   "cell_type": "code",
   "source": [
    "model = LinearRegression(fit_intercept=False)\n",
    "model.fit(design_matrix, yt)\n",
    "w_sklearn = model.coef_\n",
    "w_sklearn"
   ],
   "outputs": [
    {
     "data": {
      "text/plain": [
       "array([-8.49222821,  2.4822138 ,  2.95430727,  4.64953914, -5.47160051])"
      ]
     },
     "execution_count": 43,
     "metadata": {},
     "output_type": "execute_result"
    }
   ],
   "execution_count": 43
  },
  {
   "metadata": {},
   "cell_type": "markdown",
   "source": "Result: array([-8.49222821, 2.4822138 , 2.95430727, 4.64953914, -5.47160051]) Don't forget the intercept, you should have 5 numbers!"
  },
  {
   "metadata": {},
   "cell_type": "markdown",
   "source": "c) Determine the Root Mean Square Error (RMSE) and the average negative log-likelihood (NLL) on the testset. For NLL we assume that the conditional probability distrubution (CPD) $p(y|x)$ is given by the density of a Gaussian with constant variance $\\sigma^2$. Estimate $\\sigma^2$ using the variance of the residuals. Use the variance estimation with $1/N$. \n"
  },
  {
   "metadata": {
    "ExecuteTime": {
     "end_time": "2024-11-06T14:06:39.550858Z",
     "start_time": "2024-11-06T14:06:39.537118Z"
    }
   },
   "cell_type": "code",
   "source": [
    "yte_hat = design_Matrix_test @ w\n",
    "residuals = yte_hat - yte.flatten()\n",
    "mse = np.mean(np.square(residuals))\n",
    "rmse = np.sqrt(mse)\n",
    "\n",
    "var = np.var(residuals)\n",
    "\n",
    "nll = 0.5 * np.sum(np.log(2 * np.pi * var) + 1)\n",
    "\n",
    "print(f\"Result RMSE = {rmse}, var = {var}, NLL = {nll}\")"
   ],
   "outputs": [
    {
     "name": "stdout",
     "output_type": "stream",
     "text": [
      "Result RMSE = 8.58812638673423, var = 73.48030359919807, NLL = 3.567447229236674\n"
     ]
    }
   ],
   "execution_count": 44
  },
  {
   "metadata": {},
   "cell_type": "markdown",
   "source": "Result: $ RMSE \\approx 8.58812$, $\\hat \\sigma^2 \\approx 73.7559$, $\\tt{NLL} \\approx 3.569$"
  },
  {
   "metadata": {},
   "cell_type": "markdown",
   "source": [
    "d) For the testset: plot the predicted mean number of fish caught ($\\mu$) against observed number of fish caught. Further include the 2.5 and 97.5 precentile of p(y|x), the conditional predictive distribution (CPD) of $y$ for a given $x$. Why is a Gaussian not ideal for that kind of data? \n",
    "\n",
    "Hint: For the Gaussian the 2.5% and the 97.5% percentile is approximatiy given by $\\mu \\pm 1.96*\\sigma$"
   ]
  },
  {
   "metadata": {
    "ExecuteTime": {
     "end_time": "2024-11-06T14:06:39.780522Z",
     "start_time": "2024-11-06T14:06:39.765969Z"
    }
   },
   "cell_type": "code",
   "source": [
    "mean_yte = np.mean(yte)\n",
    "mean_yte_hat = np.mean(yte_hat)\n",
    "percentile_hat = 1.96 * np.std(yte_hat)\n",
    "percentile = 1.96 * np.std(yte)\n",
    "print(np.std(yte))\n",
    "print(np.std(yte_hat))\n",
    "print(f\"Pred: mean = {mean_yte_hat}, 2,5% = {mean_yte_hat - percentile_hat}, 97,5% = {mean_yte_hat + percentile_hat}\")\n",
    "print(f\"Actual: mean = {mean_yte}, 2,5% = {mean_yte - percentile}, 97,5% = {mean_yte + percentile}\")"
   ],
   "outputs": [
    {
     "name": "stdout",
     "output_type": "stream",
     "text": [
      "10.120099\n",
      "4.578237511518334\n",
      "Pred: mean = 3.5849868906198226, 2,5% = -5.3883586319561125, 97,5% = 12.558332413195757\n",
      "Actual: mean = 3.059999942779541, 2,5% = -16.775394439697266, 97,5% = 22.89539337158203\n"
     ]
    }
   ],
   "execution_count": 45
  },
  {
   "metadata": {
    "ExecuteTime": {
     "end_time": "2024-11-06T14:06:40.452010Z",
     "start_time": "2024-11-06T14:06:39.813472Z"
    }
   },
   "cell_type": "code",
   "source": [
    "x = np.arange(-25, 25, 0.1)\n",
    "norm_yte = scipy.stats.norm.pdf(x, mean_yte, np.std(yte))\n",
    "norm_yte_hat = scipy.stats.norm.pdf(x, mean_yte_hat, np.std(yte_hat))\n",
    "\n",
    "per_025_yt = scipy.stats.norm.ppf(0.025, mean_yte_hat, np.std(yte))\n",
    "per_025_yt_hat = scipy.stats.norm.ppf(0.025, mean_yte_hat, np.std(yte_hat))\n",
    "per_975_yt = scipy.stats.norm.ppf(0.975, mean_yte_hat, np.std(yte))\n",
    "per_975_yt_hat = scipy.stats.norm.ppf(0.975, mean_yte_hat, np.std(yte_hat))\n",
    "\n",
    "plt.figure(figsize=(10, 6))\n",
    "plt.hist(yte, bins=np.arange(0, 30) - 0.5, density=True, color='gray', alpha=0.3, label='yte')\n",
    "plt.hist(yte_hat, bins=np.arange(0, 30) - 0.5, density=True, color='orange', alpha=0.3, label='yte_hat')\n",
    "plt.plot(x, norm_yte, label='norm_yte')\n",
    "plt.plot(x, norm_yte_hat, label='norm_yte_hat')\n",
    "plt.axvline(per_025_yt, color='green', label='per_025_yt')\n",
    "plt.axvline(per_975_yt, color='green', label='per_975_yt')\n",
    "plt.axvline(per_025_yt_hat, color='red', linestyle=\"--\", label='per_025_yt_hat')\n",
    "plt.axvline(per_975_yt_hat, color='red', linestyle=\"--\", label='per_975_yt_hat')\n",
    "\n",
    "plt.ylabel('Probability Density')\n",
    "plt.legend()\n",
    "plt.show()\n"
   ],
   "outputs": [
    {
     "data": {
      "text/plain": [
       "<Figure size 1000x600 with 1 Axes>"
      ],
      "image/png": "[encoded data removed]"
     },
     "metadata": {},
     "output_type": "display_data"
    }
   ],
   "execution_count": 46
  },
  {
   "metadata": {},
   "cell_type": "markdown",
   "source": "Gaussverteilung ist symmetrisch, daher auch negative werte bei großer Standartabweichung und entsprechendem Durchschnitt"
  },
  {
   "metadata": {},
   "cell_type": "markdown",
   "source": [
    "e) This data is count data. Count data has only positive values and also the distribution is discrete. You cannot catch 0.5 fish and that the CPD has probability density > 0 on negative number of fish is wrong too. A Gaussian as a CPD is therefore not ideal. \n",
    "\n",
    "Now use a Poissonian as CPD. If we assume a Poissonian then the probability to catch $k$ fish is given by \n",
    "$$\n",
    "  p(k) = \\exp(-\\mu) \\frac{\\mu^k}{k!}\n",
    "$$\n",
    "\n",
    "and the NLL is thus by:\n",
    "\n",
    "$$\n",
    " \\text{NLL} = -\\log(p(ki)) = \\mu  - ki \\cdot \\log(\\mu) + \\log(ki!)\n",
    "$$\n",
    "\n",
    "with $\\mu$ being the expectation. In our case the average number of fish expected.\n",
    "\n",
    "In the case of the probabilistic interpretation of the linear regression, $y_i$ for a given $x_i$ is distributed like a Gaussian. The paramter $\\mu_i$ from $N(\\mu_i,\\sigma^2)$ has been determined from $x_i$ via $\\mu_i= \\beta^T \\cdot x_i$ by minimizing the NLL. \n",
    "\n",
    "A small additional detail: For the Poissonian case, $\\mu_i$ needs to be positive. We therefore do not use $\\beta^T \\cdot x_i$ directly but \"pipe it through\" an exponential first to make it positive and thus link $\\mu_i=exp(\\beta^T \\cdot x_i)$ to the data.\n",
    "\n",
    "Use a gradient descent approach on the NLL to find the solution for the parameters. Calculate the RMSE and the NLL on the test set and compare with c).\n",
    "\n",
    "Hint: On the trainingset for the parameter values (1,1,1,1,1) the NLL should be approx 1508 and the gradient (1518.61, 1403.99, 1171.02, 5701.91, 3258.7). For the NLL a good learning rate would be 0.001 and training should be done for at least 5000 epochs."
   ]
  },
  {
   "metadata": {},
   "cell_type": "markdown",
   "source": [
    "log(k!), kann weggelassen werden, da in Partieller ableitung eine Konstante ohne beta und fällt daher bei der partiellen ableitung weg.\n",
    " \n",
    "exp(b*xi) --> xi*exp(b*xi) = xi*mu\n",
    "-k(log(mu)) -> -k 1/mu * xi*mu (kettenregel)-> -k*xi\n",
    "\n",
    "zusammen xi * mu - k*xi = (mu - k)xi\n",
    "\n",
    "\n"
   ]
  },
  {
   "metadata": {
    "ExecuteTime": {
     "end_time": "2024-11-06T14:06:40.487239Z",
     "start_time": "2024-11-06T14:06:40.480783Z"
    }
   },
   "cell_type": "code",
   "source": [
    "def nll_poisson(design_matrix, yt, beta):\n",
    "    nll = 0\n",
    "    for xi, yi in zip(design_matrix, yt):\n",
    "        mu = np.exp(xi @ beta)\n",
    "        nll_i = mu - yi * np.log(mu) + np.log(float(math.factorial(int(yi))))\n",
    "        nll = nll + nll_i\n",
    "\n",
    "    return nll / len(yt)"
   ],
   "outputs": [],
   "execution_count": 47
  },
  {
   "metadata": {
    "ExecuteTime": {
     "end_time": "2024-11-06T14:06:40.529430Z",
     "start_time": "2024-11-06T14:06:40.512924Z"
    }
   },
   "cell_type": "code",
   "source": [
    "def gradient_poisson(design_matrix, yt, beta):\n",
    "    mu = np.exp(design_matrix @ beta)\n",
    "    gradient = (mu - yt) @ design_matrix\n",
    "\n",
    "    return gradient / len(yt)\n"
   ],
   "outputs": [],
   "execution_count": 48
  },
  {
   "metadata": {
    "ExecuteTime": {
     "end_time": "2024-11-06T14:06:40.570970Z",
     "start_time": "2024-11-06T14:06:40.560924Z"
    }
   },
   "cell_type": "code",
   "source": [
    "beta = np.ones(len(design_matrix[0]))\n",
    "\n",
    "gradient = gradient_poisson(design_matrix, yt, beta)\n",
    "nll = nll_poisson(design_matrix, yt, beta)\n",
    "\n",
    "print(f\"beta: {beta}\\nNLL = {nll}\\nGradient = {gradient}\")"
   ],
   "outputs": [
    {
     "name": "stdout",
     "output_type": "stream",
     "text": [
      "beta: [1. 1. 1. 1. 1.]\n",
      "NLL = 1507.9856602262093\n",
      "Gradient = [1518.61304305 1403.99474131 1171.02247951 5701.91224653 3258.70389229]\n"
     ]
    }
   ],
   "execution_count": 49
  },
  {
   "metadata": {
    "ExecuteTime": {
     "end_time": "2024-11-06T14:06:40.690609Z",
     "start_time": "2024-11-06T14:06:40.606848Z"
    }
   },
   "cell_type": "code",
   "source": [
    "beta = np.ones(len(design_matrix[0]))\n",
    "learning_rate = 0.001\n",
    "epochen = 5000\n",
    "\n",
    "# Gradient descent\n",
    "for iteration in range(epochen):\n",
    "    gradient = gradient_poisson(design_matrix, yt, beta)\n",
    "    beta = beta - (learning_rate * gradient)\n",
    "\n",
    "    if iteration % 250 == 0:\n",
    "        nll = nll_poisson(design_matrix, yt, beta)\n",
    "        yte_hat = np.matmul(design_Matrix_test, beta).flatten()\n",
    "\n",
    "        print(f\"epoche: {iteration}, NLL: {nll}, beta = {beta}\")\n",
    "\n",
    "print(f\"Final:\\nbeta: {beta}\\nNLL = {nll}\\nGradient = {gradient}\")"
   ],
   "outputs": [
    {
     "name": "stdout",
     "output_type": "stream",
     "text": [
      "epoche: 0, NLL: 65.61582209378287, beta = [-0.51861304 -0.40399474 -0.17102248 -4.70191225 -2.25870389]\n",
      "epoche: 250, NLL: 26.221284710645588, beta = [ 0.31462384  0.41097469  0.48763027 -1.86775269 -2.10374041]\n",
      "epoche: 500, NLL: 5.363444125899285, beta = [ 0.67378559  0.7807983   0.78153486  0.06582337 -1.98036082]\n",
      "epoche: 750, NLL: 4.531942169967969, beta = [ 0.40470755  0.56912264  0.60984015  0.29819233 -1.92741728]\n",
      "epoche: 1000, NLL: 4.166305868797359, beta = [ 0.20103436  0.43027239  0.51153782  0.43284587 -1.88421336]\n",
      "epoche: 1250, NLL: 3.9744073135134244, beta = [ 0.03865504  0.33738129  0.45663009  0.52387635 -1.84776375]\n",
      "epoche: 1500, NLL: 3.8599338058041406, beta = [-0.09693099  0.27422491  0.42779888  0.58951896 -1.8167632 ]\n",
      "epoche: 1750, NLL: 3.784438773454034, beta = [-0.21385408  0.23142866  0.41521981  0.63897788 -1.79031206]\n",
      "epoche: 2000, NLL: 3.730503352525635, beta = [-0.31705625  0.20313492  0.41294665  0.67748088 -1.76770182]\n",
      "epoche: 2250, NLL: 3.689462664204834, beta = [-0.409741    0.18546293  0.41721909  0.70824474 -1.74834615]\n",
      "epoche: 2500, NLL: 3.656675940069569, beta = [-0.49409277  0.17572814  0.42558981  0.73336462 -1.73175156]\n",
      "epoche: 2750, NLL: 3.6294980178062928, beta = [-0.57166264  0.17201244  0.43643719  0.75426355 -1.7175006 ]\n",
      "epoche: 3000, NLL: 3.6063358909048846, beta = [-0.64358911  0.17291094  0.44867617  0.77193944 -1.70523984]\n",
      "epoche: 3250, NLL: 3.5861809358003773, beta = [-0.71073126  0.1773744   0.46157864  0.7871099  -1.69467011]\n",
      "epoche: 3500, NLL: 3.568364459657346, beta = [-0.77375287  0.1846068   0.47465801  0.80030162 -1.68553828]\n",
      "epoche: 3750, NLL: 3.552424060100204, beta = [-0.83317743  0.19399638  0.48759289  0.81190782 -1.67763024]\n",
      "epoche: 4000, NLL: 3.5380275724436756, beta = [-0.88942533  0.20506786  0.50017577  0.82222643 -1.6707649 ]\n",
      "epoche: 4250, NLL: 3.5249281647773656, beta = [-0.94283964  0.21744853  0.51227788  0.83148616 -1.66478902]\n",
      "epoche: 4500, NLL: 3.512936892258843, beta = [-0.99370441  0.23084379  0.52382484  0.83986467 -1.65957291]\n",
      "epoche: 4750, NLL: 3.501905363745447, beta = [-1.0422579   0.24501916  0.53477977  0.84750147 -1.65500673]\n",
      "Final:\n",
      "beta: [-1.08852056  0.2597268   0.54509109  0.85448041 -1.65101241]\n",
      "NLL = 3.501905363745447\n",
      "Gradient = [ 0.18184601 -0.06003273 -0.040217   -0.02689894 -0.01504479]\n"
     ]
    }
   ],
   "execution_count": 50
  },
  {
   "metadata": {},
   "cell_type": "markdown",
   "source": "f) Do the same plot as in d) but this time with a Poisson CPD. Hint you can use scipy.stats.poisson to calculate the percentiles."
  },
  {
   "metadata": {
    "ExecuteTime": {
     "end_time": "2024-11-06T14:06:40.725137Z",
     "start_time": "2024-11-06T14:06:40.714736Z"
    }
   },
   "cell_type": "code",
   "source": [
    "yte_hat = design_Matrix_test @ beta\n",
    "residuals = yte_hat - yte.flatten()\n",
    "mse = np.mean(np.square(residuals))\n",
    "rmse = np.sqrt(mse)\n",
    "var = np.var(residuals)\n",
    "\n",
    "print(f\"Result RMSE = {rmse}, var = {var}\")\n",
    "\n",
    "mu_yte = np.mean(yte)\n",
    "mu_yte_hat = np.mean(yte_hat)\n",
    "\n",
    "print(\n",
    "    f\"Pred: mean = {mu_yte_hat}, 2,5% = {scipy.stats.poisson.ppf(0.025, mu_yte_hat)}, 97,5% = {scipy.stats.poisson.ppf(0.975, mu_yte_hat)}\")\n",
    "print(\n",
    "    f\"Actual: mean = {mu_yte}, 2,5% = {scipy.stats.poisson.ppf(0.025, mu_yte)}, 97,5% = {scipy.stats.poisson.ppf(0.975, mu_yte)}\")"
   ],
   "outputs": [
    {
     "name": "stdout",
     "output_type": "stream",
     "text": [
      "Result RMSE = 9.943909589198608, var = 92.67170610984182\n",
      "Pred: mean = 0.5680867173366131, 2,5% = 0.0, 97,5% = 2.0\n",
      "Actual: mean = 3.059999942779541, 2,5% = 0.0, 97,5% = 7.0\n"
     ]
    }
   ],
   "execution_count": 51
  },
  {
   "metadata": {
    "ExecuteTime": {
     "end_time": "2024-11-06T14:06:40.984908Z",
     "start_time": "2024-11-06T14:06:40.751496Z"
    }
   },
   "cell_type": "code",
   "source": [
    "x = np.arange(0, 20)\n",
    "poisson_yte = scipy.stats.poisson.pmf(x, mu_yte)\n",
    "poisson_yte_hat = scipy.stats.poisson.pmf(x, mu_yte_hat)\n",
    "\n",
    "per_025_yt = scipy.stats.poisson.ppf(0.025, mu_yte)\n",
    "per_025_yt_hat = scipy.stats.poisson.ppf(0.025, mu_yte_hat)\n",
    "per_975_yt = scipy.stats.poisson.ppf(0.975, mu_yte)\n",
    "per_975_yt_hat = scipy.stats.poisson.ppf(0.975, mu_yte_hat)\n",
    "\n",
    "plt.figure(figsize=(10, 6))\n",
    "plt.hist(yte, bins=np.arange(0, 30) - 0.5, density=True, color='gray', alpha=0.3, label='yte')\n",
    "plt.hist(yte_hat, bins=np.arange(0, 30) - 0.5, density=True, color='orange', alpha=0.3, label='yte_hat')\n",
    "plt.plot(x, poisson_yte, label='poisson_yte')\n",
    "plt.plot(x, poisson_yte_hat, label='poisson_yte')\n",
    "plt.axvline(per_025_yt, color='green', label='per_025_yt')\n",
    "plt.axvline(per_975_yt, color='green', label='per_975_yt')\n",
    "plt.axvline(per_025_yt_hat, color='red', linestyle=\"--\", label='per_025_yt_hat')\n",
    "plt.axvline(per_975_yt_hat, color='red', linestyle=\"--\", label='per_975_yt_hat')\n",
    "\n",
    "plt.ylabel('Probability Density')\n",
    "plt.legend()\n",
    "plt.show()\n"
   ],
   "outputs": [
    {
     "data": {
      "text/plain": [
       "<Figure size 1000x600 with 1 Axes>"
      ],
      "image/png": "[encoded data removed]"
     },
     "metadata": {},
     "output_type": "display_data"
    }
   ],
   "execution_count": 52
  },
  {
   "metadata": {},
   "cell_type": "markdown",
   "source": [
    "\n",
    "## 3. Naiver Bayesklassifikator zur Gesichtserkennung\n",
    "Implementieren Sie den Gaussian-Naïve-Bayes-Klassifikator aus der Vorlesung. Testen Sie Ihre Implementierung am Datensatz ''Labeled Faces in the Wild'' aus Aufgabe 2, wiederum nur für Personen, für die mindestens 70 Bilder existieren. Teilen Sie Ihren Datensatz in 60 % Trainings- und 40% Testdaten (nach vorheriger Zufalls-Permutation der Reihenfolge) und skalieren Sie die Bilder wieder auf 1/8 der Originalgröße. Führen Sie anschließend eine Hauptkomponentenanalyse auf den Trainingsdaten durch und projizieren Sie sowohl Trainings- als auch Testbilder auf die ersten 7 Eigengesichter. Trainieren Sie Ihren GNB-Klassifikator auf dem Trainingsdatensatz als ''George-W.-Bush-Detektor'', d.h. alle zu dieser Person gehörigen Bilder werden mit 1 gelabelt, alle sonstigen mit –1. Werten Sie Ihren Klassifikator sowohl auf den Trainings- wie auf den unabhängigen Testdaten aus. Bestimmen Sie dafür jeweils die Detektionswahrscheinlichkeit, Richtig-Negativ-Rate, Fehlalarmrate und Falsch-Negativ-Rate.\n"
   ]
  },
  {
   "metadata": {
    "ExecuteTime": {
     "end_time": "2024-11-08T10:58:42.650367Z",
     "start_time": "2024-11-08T10:58:42.627995Z"
    }
   },
   "cell_type": "code",
   "source": [
    "data = {\n",
    "    'Feature1': range(1, 11),\n",
    "    'Feature2': range(11, 21),\n",
    "    'Names': ['George-W.-Bush', 'B', 'George-W.-Bush', 'D', 'E', 'F', 'G', 'H', 'I', 'J']\n",
    "}\n",
    "df = pd.DataFrame(data)\n",
    "\n",
    "\n",
    "def desicion_fkt(name, name_searched, labels=[1, -1]):\n",
    "    return labels[0] if name == name_searched else labels[1]\n",
    "\n",
    "\n",
    "df[\"Labels\"] = df[\"Names\"].transform(lambda name: desicion_fkt(name, 'George-W.-Bush'))\n",
    "df"
   ],
   "outputs": [
    {
     "data": {
      "text/plain": [
       "   Feature1  Feature2           Names  Labels\n",
       "0         1        11  George-W.-Bush       1\n",
       "1         2        12               B      -1\n",
       "2         3        13  George-W.-Bush       1\n",
       "3         4        14               D      -1\n",
       "4         5        15               E      -1\n",
       "5         6        16               F      -1\n",
       "6         7        17               G      -1\n",
       "7         8        18               H      -1\n",
       "8         9        19               I      -1\n",
       "9        10        20               J      -1"
      ],
      "text/html": [
       "<div>\n",
       "<style scoped>\n",
       "    .dataframe tbody tr th:only-of-type {\n",
       "        vertical-align: middle;\n",
       "    }\n",
       "\n",
       "    .dataframe tbody tr th {\n",
       "        vertical-align: top;\n",
       "    }\n",
       "\n",
       "    .dataframe thead th {\n",
       "        text-align: right;\n",
       "    }\n",
       "</style>\n",
       "<table border=\"1\" class=\"dataframe\">\n",
       "  <thead>\n",
       "    <tr style=\"text-align: right;\">\n",
       "      <th></th>\n",
       "      <th>Feature1</th>\n",
       "      <th>Feature2</th>\n",
       "      <th>Names</th>\n",
       "      <th>Labels</th>\n",
       "    </tr>\n",
       "  </thead>\n",
       "  <tbody>\n",
       "    <tr>\n",
       "      <th>0</th>\n",
       "      <td>1</td>\n",
       "      <td>11</td>\n",
       "      <td>George-W.-Bush</td>\n",
       "      <td>1</td>\n",
       "    </tr>\n",
       "    <tr>\n",
       "      <th>1</th>\n",
       "      <td>2</td>\n",
       "      <td>12</td>\n",
       "      <td>B</td>\n",
       "      <td>-1</td>\n",
       "    </tr>\n",
       "    <tr>\n",
       "      <th>2</th>\n",
       "      <td>3</td>\n",
       "      <td>13</td>\n",
       "      <td>George-W.-Bush</td>\n",
       "      <td>1</td>\n",
       "    </tr>\n",
       "    <tr>\n",
       "      <th>3</th>\n",
       "      <td>4</td>\n",
       "      <td>14</td>\n",
       "      <td>D</td>\n",
       "      <td>-1</td>\n",
       "    </tr>\n",
       "    <tr>\n",
       "      <th>4</th>\n",
       "      <td>5</td>\n",
       "      <td>15</td>\n",
       "      <td>E</td>\n",
       "      <td>-1</td>\n",
       "    </tr>\n",
       "    <tr>\n",
       "      <th>5</th>\n",
       "      <td>6</td>\n",
       "      <td>16</td>\n",
       "      <td>F</td>\n",
       "      <td>-1</td>\n",
       "    </tr>\n",
       "    <tr>\n",
       "      <th>6</th>\n",
       "      <td>7</td>\n",
       "      <td>17</td>\n",
       "      <td>G</td>\n",
       "      <td>-1</td>\n",
       "    </tr>\n",
       "    <tr>\n",
       "      <th>7</th>\n",
       "      <td>8</td>\n",
       "      <td>18</td>\n",
       "      <td>H</td>\n",
       "      <td>-1</td>\n",
       "    </tr>\n",
       "    <tr>\n",
       "      <th>8</th>\n",
       "      <td>9</td>\n",
       "      <td>19</td>\n",
       "      <td>I</td>\n",
       "      <td>-1</td>\n",
       "    </tr>\n",
       "    <tr>\n",
       "      <th>9</th>\n",
       "      <td>10</td>\n",
       "      <td>20</td>\n",
       "      <td>J</td>\n",
       "      <td>-1</td>\n",
       "    </tr>\n",
       "  </tbody>\n",
       "</table>\n",
       "</div>"
      ]
     },
     "execution_count": 23,
     "metadata": {},
     "output_type": "execute_result"
    }
   ],
   "execution_count": 23
  },
  {
   "metadata": {},
   "cell_type": "markdown",
   "source": "#### Zufallspermutation"
  },
  {
   "metadata": {
    "ExecuteTime": {
     "end_time": "2024-11-08T11:01:18.161190Z",
     "start_time": "2024-11-08T11:01:18.146915Z"
    }
   },
   "cell_type": "code",
   "source": [
    "xt, xte = train_test_split(df, test_size=0.4, random_state=42)\n",
    "\n",
    "yt = xt.pop('Labels')\n",
    "yt_names = xt.pop('Names')\n",
    "\n",
    "yte_hat = xte.pop('Labels')\n",
    "yte_names = xte.pop('Names')\n",
    "\n",
    "xt.head()"
   ],
   "outputs": [
    {
     "data": {
      "text/plain": [
       "   Feature1  Feature2           Names\n",
       "7         8        18               H\n",
       "2         3        13  George-W.-Bush\n",
       "9        10        20               J\n",
       "4         5        15               E\n",
       "3         4        14               D"
      ],
      "text/html": [
       "<div>\n",
       "<style scoped>\n",
       "    .dataframe tbody tr th:only-of-type {\n",
       "        vertical-align: middle;\n",
       "    }\n",
       "\n",
       "    .dataframe tbody tr th {\n",
       "        vertical-align: top;\n",
       "    }\n",
       "\n",
       "    .dataframe thead th {\n",
       "        text-align: right;\n",
       "    }\n",
       "</style>\n",
       "<table border=\"1\" class=\"dataframe\">\n",
       "  <thead>\n",
       "    <tr style=\"text-align: right;\">\n",
       "      <th></th>\n",
       "      <th>Feature1</th>\n",
       "      <th>Feature2</th>\n",
       "      <th>Names</th>\n",
       "    </tr>\n",
       "  </thead>\n",
       "  <tbody>\n",
       "    <tr>\n",
       "      <th>7</th>\n",
       "      <td>8</td>\n",
       "      <td>18</td>\n",
       "      <td>H</td>\n",
       "    </tr>\n",
       "    <tr>\n",
       "      <th>2</th>\n",
       "      <td>3</td>\n",
       "      <td>13</td>\n",
       "      <td>George-W.-Bush</td>\n",
       "    </tr>\n",
       "    <tr>\n",
       "      <th>9</th>\n",
       "      <td>10</td>\n",
       "      <td>20</td>\n",
       "      <td>J</td>\n",
       "    </tr>\n",
       "    <tr>\n",
       "      <th>4</th>\n",
       "      <td>5</td>\n",
       "      <td>15</td>\n",
       "      <td>E</td>\n",
       "    </tr>\n",
       "    <tr>\n",
       "      <th>3</th>\n",
       "      <td>4</td>\n",
       "      <td>14</td>\n",
       "      <td>D</td>\n",
       "    </tr>\n",
       "  </tbody>\n",
       "</table>\n",
       "</div>"
      ]
     },
     "execution_count": 27,
     "metadata": {},
     "output_type": "execute_result"
    }
   ],
   "execution_count": 27
  }
 ],
 "metadata": {
  "colab": {
   "collapsed_sections": [],
   "name": "Linear_Regression.ipynb",
   "provenance": []
  },
  "kernelspec": {
   "display_name": "Python 3",
   "language": "python",
   "name": "python3"
  },
  "language_info": {
   "codemirror_mode": {
    "name": "ipython",
    "version": 3
   },
   "file_extension": ".py",
   "mimetype": "text/x-python",
   "name": "python",
   "nbconvert_exporter": "python",
   "pygments_lexer": "ipython3",
   "version": "3.9.6"
  }
 },
 "nbformat": 4,
 "nbformat_minor": 1
}
