{
 "cells": [
  {
   "cell_type": "code",
   "metadata": {
    "ExecuteTime": {
     "end_time": "2024-11-12T15:05:27.905981Z",
     "start_time": "2024-11-12T15:05:27.898471Z"
    }
   },
   "source": [
    "import numpy as np\n",
    "from skimage import io\n",
    "from skimage.transform import resize\n",
    "from sklearn.model_selection import train_test_split\n",
    "import tarfile\n",
    "import pandas as pd\n",
    "import scipy\n",
    "import matplotlib.pyplot as plt"
   ],
   "outputs": [],
   "execution_count": 43
  },
  {
   "metadata": {
    "ExecuteTime": {
     "end_time": "2024-11-12T15:05:34.044864Z",
     "start_time": "2024-11-12T15:05:27.914488Z"
    }
   },
   "cell_type": "code",
   "source": [
    "\n",
    "\n",
    "tgz_path = '../../../Data/ZipFiles/lfw-funneled.tgz'\n",
    "\n",
    "with tarfile.open(tgz_path, 'r:gz') as tar:\n",
    "    tar.extractall(path='../A2-2')"
   ],
   "outputs": [
    {
     "name": "stderr",
     "output_type": "stream",
     "text": [
      "C:\\Users\\johan\\AppData\\Local\\Temp\\ipykernel_10300\\721106515.py:4: DeprecationWarning: Python 3.14 will, by default, filter extracted tar archives and reject files or modify their metadata. Use the filter argument to control this behavior.\n",
      "  tar.extractall(path='../A2-2')\n"
     ]
    }
   ],
   "execution_count": 44
  },
  {
   "metadata": {
    "ExecuteTime": {
     "end_time": "2024-11-12T15:05:34.492704Z",
     "start_time": "2024-11-12T15:05:34.075521Z"
    }
   },
   "cell_type": "code",
   "source": [
    "import os\n",
    "\n",
    "main_path = '../A2-2/lfw_funneled'\n",
    "\n",
    "person_image_count = {}\n",
    "\n",
    "#Durchsuchen aller Verzeichnisse und Dateien\n",
    "for person_directorys in os.listdir(main_path):\n",
    "    person_directory_path = os.path.join(main_path, person_directorys)\n",
    "\n",
    "    if os.path.isdir(person_directory_path):  #Wegen // Nur directorys wegen Datei pairs.txt\n",
    "        image_count = 0\n",
    "\n",
    "        for person_image_file in os.listdir(person_directory_path):\n",
    "            image_count += 1\n",
    "        person_image_count[person_directorys] = image_count\n",
    "\n",
    "#Personen mit mindestens 70 Bildern\n",
    "persons_with_min_70_images = {}\n",
    "for person, count in person_image_count.items():\n",
    "    if count >= 70:\n",
    "        persons_with_min_70_images[person] = count\n",
    "\n",
    "persons_with_min_70_images\n"
   ],
   "outputs": [
    {
     "data": {
      "text/plain": [
       "{'Ariel_Sharon': 77,\n",
       " 'Colin_Powell': 236,\n",
       " 'Donald_Rumsfeld': 121,\n",
       " 'George_W_Bush': 530,\n",
       " 'Gerhard_Schroeder': 109,\n",
       " 'Hugo_Chavez': 71,\n",
       " 'Tony_Blair': 144}"
      ]
     },
     "execution_count": 45,
     "metadata": {},
     "output_type": "execute_result"
    }
   ],
   "execution_count": 45
  },
  {
   "metadata": {
    "ExecuteTime": {
     "end_time": "2024-11-12T15:05:34.588517Z",
     "start_time": "2024-11-12T15:05:34.573474Z"
    }
   },
   "cell_type": "code",
   "source": [
    "def image_normalizing(image_path_array):\n",
    "    normalized_images = []\n",
    "\n",
    "    for image_path in image_path_array:\n",
    "        #Bild laden + Graustufen\n",
    "        image = io.imread(image_path, as_gray=True)\n",
    "        # Crop to central region (eyes and mouth area)\n",
    "        h, w = image.shape\n",
    "        image = image[50:h - 50, 100:w - 100]\n",
    "        image = resize(image, (32, 32), anti_aliasing=True)\n",
    "        image = image.flatten()\n",
    "        normalized_images.append(image)\n",
    "    return np.array(normalized_images)"
   ],
   "outputs": [],
   "execution_count": 46
  },
  {
   "metadata": {
    "ExecuteTime": {
     "end_time": "2024-11-12T15:05:37.566237Z",
     "start_time": "2024-11-12T15:05:34.637278Z"
    }
   },
   "cell_type": "code",
   "source": [
    "\n",
    "main_path = '../A2-2/lfw_funneled'\n",
    "\n",
    "design_matrix = []\n",
    "person_names = []\n",
    "images = []\n",
    "image_paths = []\n",
    "\n",
    "#Bilder laden\n",
    "for person, count in persons_with_min_70_images.items():\n",
    "    person_image_path = os.path.join(main_path, person)\n",
    "\n",
    "    person_images = []\n",
    "\n",
    "    #Alle Bilder zu image_files hinzufügen und alle Pfade zu image_paths\n",
    "    for file in os.listdir(person_image_path):\n",
    "        person_directory_path = os.path.join(main_path, person)\n",
    "        image_path = os.path.join(person_directory_path, file)\n",
    "        image_paths.append(image_path)\n",
    "        images.append(file)\n",
    "        person_names.append(person)\n",
    "        person_images.append(file)\n",
    "\n",
    "#Bilder normalisieren\n",
    "normalized_images = image_normalizing(image_paths)\n",
    "\n",
    "print('Normalisierte Bilder: ', normalized_images)\n"
   ],
   "outputs": [
    {
     "name": "stdout",
     "output_type": "stream",
     "text": [
      "Normalisierte Bilder:  [[0.76409874 0.76333559 0.7618745  ... 0.45180102 0.42390687 0.43632657]\n",
      " [0.97910903 0.98045155 0.97151955 ... 0.56179417 0.62995189 0.68868346]\n",
      " [0.59485341 0.5977032  0.5983243  ... 0.31304711 0.31444899 0.30489816]\n",
      " ...\n",
      " [0.23897985 0.21993892 0.2156895  ... 0.29762261 0.34223762 0.39931353]\n",
      " [0.62935623 0.65686395 0.67785614 ... 0.81601545 0.87416314 0.76666479]\n",
      " [0.19643648 0.20220521 0.21811043 ... 0.33939117 0.30691648 0.28428258]]\n"
     ]
    }
   ],
   "execution_count": 47
  },
  {
   "metadata": {
    "ExecuteTime": {
     "end_time": "2024-11-12T15:05:37.607352Z",
     "start_time": "2024-11-12T15:05:37.602224Z"
    }
   },
   "cell_type": "code",
   "source": [
    "# PCA-Funktion\n",
    "def pca(X, r):\n",
    "    # Schritt 1: Zentrieren\n",
    "    mean_X = np.mean(X, axis=0)\n",
    "    centered_X = X - mean_X\n",
    "\n",
    "    # Schritt 2: Normalisieren\n",
    "    std_X = np.std(centered_X, axis=0)\n",
    "    normalized_X = centered_X / std_X\n",
    "\n",
    "    # Schritt 3/4: Singulärwertzerlegung\n",
    "    U, D, VT = np.linalg.svd(normalized_X)\n",
    "\n",
    "    # Schritt 5 + 6: Projizieren der Hauptvektoren auf Datenmatrix\n",
    "    V = VT[:r, :].T\n",
    "    UD = normalized_X.dot(V)\n",
    "\n",
    "    # Schritt 7: Standardabweichung der Hauptkomponenten berechnen\n",
    "    std_UD = np.std(UD, axis=0, ddof=1)\n",
    "\n",
    "    # Alternativer Ansatz für Standardabweichung der Hauptkomponenten\n",
    "    n = X.shape[0]\n",
    "    std_UDv2 = D / pow((n - 1), 2)\n",
    "\n",
    "    return U, D, VT, UD, std_UD, V, std_UDv2, mean_X"
   ],
   "outputs": [],
   "execution_count": 48
  },
  {
   "cell_type": "code",
   "metadata": {
    "ExecuteTime": {
     "end_time": "2024-11-12T15:05:38.247189Z",
     "start_time": "2024-11-12T15:05:37.639219Z"
    }
   },
   "source": [
    "num_components = 7\n",
    "\n",
    "U, D, VT, UD, std_UD, V, std_UDv2, mean_X = pca(normalized_images, num_components)\n"
   ],
   "outputs": [],
   "execution_count": 49
  },
  {
   "metadata": {
    "ExecuteTime": {
     "end_time": "2024-11-12T15:05:38.282197Z",
     "start_time": "2024-11-12T15:05:38.276342Z"
    }
   },
   "cell_type": "code",
   "source": [
    "projected_data = pd.DataFrame(normalized_images @ V)\n",
    "#projected_data = (projected_data - projected_data.mean()) / projected_data.std()"
   ],
   "outputs": [],
   "execution_count": 50
  },
  {
   "metadata": {
    "ExecuteTime": {
     "end_time": "2024-11-12T15:05:38.324518Z",
     "start_time": "2024-11-12T15:05:38.315659Z"
    }
   },
   "cell_type": "code",
   "source": "projected_data.corr()",
   "outputs": [
    {
     "data": {
      "text/plain": [
       "          0         1         2         3         4         5         6\n",
       "0  1.000000 -0.034584  0.008091  0.236391  0.018528 -0.012957 -0.036918\n",
       "1 -0.034584  1.000000 -0.051706  0.274198 -0.137404 -0.041137  0.025137\n",
       "2  0.008091 -0.051706  1.000000 -0.084759  0.022713  0.026686  0.058313\n",
       "3  0.236391  0.274198 -0.084759  1.000000 -0.058558 -0.023091 -0.032362\n",
       "4  0.018528 -0.137404  0.022713 -0.058558  1.000000  0.025027 -0.078282\n",
       "5 -0.012957 -0.041137  0.026686 -0.023091  0.025027  1.000000 -0.070188\n",
       "6 -0.036918  0.025137  0.058313 -0.032362 -0.078282 -0.070188  1.000000"
      ],
      "text/html": [
       "<div>\n",
       "<style scoped>\n",
       "    .dataframe tbody tr th:only-of-type {\n",
       "        vertical-align: middle;\n",
       "    }\n",
       "\n",
       "    .dataframe tbody tr th {\n",
       "        vertical-align: top;\n",
       "    }\n",
       "\n",
       "    .dataframe thead th {\n",
       "        text-align: right;\n",
       "    }\n",
       "</style>\n",
       "<table border=\"1\" class=\"dataframe\">\n",
       "  <thead>\n",
       "    <tr style=\"text-align: right;\">\n",
       "      <th></th>\n",
       "      <th>0</th>\n",
       "      <th>1</th>\n",
       "      <th>2</th>\n",
       "      <th>3</th>\n",
       "      <th>4</th>\n",
       "      <th>5</th>\n",
       "      <th>6</th>\n",
       "    </tr>\n",
       "  </thead>\n",
       "  <tbody>\n",
       "    <tr>\n",
       "      <th>0</th>\n",
       "      <td>1.000000</td>\n",
       "      <td>-0.034584</td>\n",
       "      <td>0.008091</td>\n",
       "      <td>0.236391</td>\n",
       "      <td>0.018528</td>\n",
       "      <td>-0.012957</td>\n",
       "      <td>-0.036918</td>\n",
       "    </tr>\n",
       "    <tr>\n",
       "      <th>1</th>\n",
       "      <td>-0.034584</td>\n",
       "      <td>1.000000</td>\n",
       "      <td>-0.051706</td>\n",
       "      <td>0.274198</td>\n",
       "      <td>-0.137404</td>\n",
       "      <td>-0.041137</td>\n",
       "      <td>0.025137</td>\n",
       "    </tr>\n",
       "    <tr>\n",
       "      <th>2</th>\n",
       "      <td>0.008091</td>\n",
       "      <td>-0.051706</td>\n",
       "      <td>1.000000</td>\n",
       "      <td>-0.084759</td>\n",
       "      <td>0.022713</td>\n",
       "      <td>0.026686</td>\n",
       "      <td>0.058313</td>\n",
       "    </tr>\n",
       "    <tr>\n",
       "      <th>3</th>\n",
       "      <td>0.236391</td>\n",
       "      <td>0.274198</td>\n",
       "      <td>-0.084759</td>\n",
       "      <td>1.000000</td>\n",
       "      <td>-0.058558</td>\n",
       "      <td>-0.023091</td>\n",
       "      <td>-0.032362</td>\n",
       "    </tr>\n",
       "    <tr>\n",
       "      <th>4</th>\n",
       "      <td>0.018528</td>\n",
       "      <td>-0.137404</td>\n",
       "      <td>0.022713</td>\n",
       "      <td>-0.058558</td>\n",
       "      <td>1.000000</td>\n",
       "      <td>0.025027</td>\n",
       "      <td>-0.078282</td>\n",
       "    </tr>\n",
       "    <tr>\n",
       "      <th>5</th>\n",
       "      <td>-0.012957</td>\n",
       "      <td>-0.041137</td>\n",
       "      <td>0.026686</td>\n",
       "      <td>-0.023091</td>\n",
       "      <td>0.025027</td>\n",
       "      <td>1.000000</td>\n",
       "      <td>-0.070188</td>\n",
       "    </tr>\n",
       "    <tr>\n",
       "      <th>6</th>\n",
       "      <td>-0.036918</td>\n",
       "      <td>0.025137</td>\n",
       "      <td>0.058313</td>\n",
       "      <td>-0.032362</td>\n",
       "      <td>-0.078282</td>\n",
       "      <td>-0.070188</td>\n",
       "      <td>1.000000</td>\n",
       "    </tr>\n",
       "  </tbody>\n",
       "</table>\n",
       "</div>"
      ]
     },
     "execution_count": 51,
     "metadata": {},
     "output_type": "execute_result"
    }
   ],
   "execution_count": 51
  },
  {
   "metadata": {
    "ExecuteTime": {
     "end_time": "2024-11-12T15:05:38.684271Z",
     "start_time": "2024-11-12T15:05:38.374660Z"
    }
   },
   "cell_type": "code",
   "source": [
    "fig, axes = plt.subplots(2, 4, figsize=(12, 9))\n",
    "axes = axes.ravel()\n",
    "for i in range(len(V[1])):\n",
    "    # Rücktransformation in Bildformat\n",
    "    eig_face = V[:, i].reshape(32, 32)\n",
    "    axes[i].imshow(eig_face, cmap='gray')\n",
    "    axes[i].set_title(f'Eigengesicht {i + 1}')\n",
    "    axes[i].axis('off')\n",
    "\n",
    "plt.tight_layout()\n",
    "plt.show()"
   ],
   "outputs": [
    {
     "data": {
      "text/plain": [
       "<Figure size 1200x900 with 8 Axes>"
      ],
      "image/png": "[encoded data removed]"
     },
     "metadata": {},
     "output_type": "display_data"
    }
   ],
   "execution_count": 52
  },
  {
   "metadata": {},
   "cell_type": "markdown",
   "source": [
    "\n",
    "## 3. Naiver Bayesklassifikator zur Gesichtserkennung\n",
    "Implementieren Sie den Gaussian-Naïve-Bayes-Klassifikator aus der Vorlesung. Testen Sie Ihre Implementierung am Datensatz ''Labeled Faces in the Wild'' aus Aufgabe 2, wiederum nur für Personen, für die mindestens 70 Bilder existieren. Teilen Sie Ihren Datensatz in 60 % Trainings- und 40% Testdaten (nach vorheriger Zufalls-Permutation der Reihenfolge) und skalieren Sie die Bilder wieder auf 1/8 der Originalgröße. Führen Sie anschließend eine Hauptkomponentenanalyse auf den Trainingsdaten durch und projizieren Sie sowohl Trainings- als auch Testbilder auf die ersten 7 Eigengesichter. Trainieren Sie Ihren GNB-Klassifikator auf dem Trainingsdatensatz als ''George-W.-Bush-Detektor'', d.h. alle zu dieser Person gehörigen Bilder werden mit 1 gelabelt, alle sonstigen mit –1. Werten Sie Ihren Klassifikator sowohl auf den Trainings- wie auf den unabhängigen Testdaten aus. Bestimmen Sie dafür jeweils die Detektionswahrscheinlichkeit, Richtig-Negativ-Rate, Fehlalarmrate und Falsch-Negativ-Rate.\n"
   ]
  },
  {
   "metadata": {},
   "cell_type": "markdown",
   "source": "#### Permutation & Preprocessing"
  },
  {
   "metadata": {
    "ExecuteTime": {
     "end_time": "2024-11-12T15:05:38.721005Z",
     "start_time": "2024-11-12T15:05:38.706890Z"
    }
   },
   "cell_type": "code",
   "source": [
    "df = pd.DataFrame(projected_data)\n",
    "df[\"Names\"] = person_names\n",
    "\n",
    "\n",
    "def desicion_fkt(name, name_searched, labels=[1, -1]):\n",
    "    return labels[0] if name == name_searched else labels[1]\n",
    "\n",
    "\n",
    "df[\"Labels\"] = df[\"Names\"].transform(lambda name: desicion_fkt(name, 'George_W_Bush'))\n",
    "\n",
    "df_bush = df.loc[df['Labels'] == 1]\n",
    "df_not_bush = df.loc[df['Labels'] == -1]\n",
    "\n",
    "A_priori_bush = len(df_bush) / (len(df_bush) + len(df_not_bush))\n",
    "A_priori_not_bush = len(df_not_bush) / (len(df_bush) + len(df_not_bush))\n",
    "\n",
    "xt_no_bush, xte_no_bush = train_test_split(df_not_bush, test_size=0.4, random_state=42)\n",
    "xt_bush, xte_bush = train_test_split(df_bush, test_size=0.4, random_state=42)\n",
    "\n",
    "xt = pd.concat([xt_bush, xt_no_bush])\n",
    "xte = pd.concat([xte_no_bush, xte_bush])\n",
    "\n",
    "yt_no_bush = xt_no_bush.pop(\"Labels\")\n",
    "yt_no_bush_name = xt_no_bush.pop(\"Names\")\n",
    "\n",
    "yt_bush = xt_bush.pop(\"Labels\")\n",
    "yt_bush_name = xt_bush.pop(\"Names\")\n",
    "\n",
    "#yte = xte.pop('Labels')\n",
    "#yte_names = xte.pop('Names')\n",
    "\n",
    "print(\n",
    "    f\"A-Priori-Bush: {A_priori_bush}, A-Priori-Not-Bush: {A_priori_not_bush}, SUM: {A_priori_bush + A_priori_not_bush}\")"
   ],
   "outputs": [
    {
     "name": "stdout",
     "output_type": "stream",
     "text": [
      "A-Priori-Bush: 0.4114906832298137, A-Priori-Not-Bush: 0.5885093167701864, SUM: 1.0\n"
     ]
    }
   ],
   "execution_count": 53
  },
  {
   "metadata": {
    "ExecuteTime": {
     "end_time": "2024-11-12T15:05:38.787264Z",
     "start_time": "2024-11-12T15:05:38.777391Z"
    }
   },
   "cell_type": "code",
   "source": "xt_bush",
   "outputs": [
    {
     "data": {
      "text/plain": [
       "             0         1         2         3         4         5         6\n",
       "575 -19.344120 -1.415254  4.120229 -1.275557  0.484732 -0.318927  1.558645\n",
       "826 -13.531748 -2.216955  3.316246 -0.207453  0.740889 -0.709785  0.994716\n",
       "501 -22.747065 -2.388673 -1.499291 -2.784472  0.624037  0.259378  0.966586\n",
       "904 -18.268116  0.510119  2.922429 -0.794236  0.980536  0.385480 -0.544872\n",
       "602 -18.007117 -1.655474  0.777385 -2.147378  0.888018 -0.338446  1.451803\n",
       "..         ...       ...       ...       ...       ...       ...       ...\n",
       "505 -14.682047  0.466649  0.339883 -1.550703  1.407415  0.090889  0.877262\n",
       "540 -17.512990 -1.678886  0.408744 -0.677415  2.074815  1.377641  0.159540\n",
       "704 -16.915691 -4.332047 -1.174897 -2.364517 -0.421128  0.831757  1.284550\n",
       "869 -16.390626 -1.420599 -0.749833 -1.249156  1.320532 -0.799960  0.509271\n",
       "536 -19.404469 -0.275846  2.951406  0.819608  0.995025  1.006772  1.141400\n",
       "\n",
       "[318 rows x 7 columns]"
      ],
      "text/html": [
       "<div>\n",
       "<style scoped>\n",
       "    .dataframe tbody tr th:only-of-type {\n",
       "        vertical-align: middle;\n",
       "    }\n",
       "\n",
       "    .dataframe tbody tr th {\n",
       "        vertical-align: top;\n",
       "    }\n",
       "\n",
       "    .dataframe thead th {\n",
       "        text-align: right;\n",
       "    }\n",
       "</style>\n",
       "<table border=\"1\" class=\"dataframe\">\n",
       "  <thead>\n",
       "    <tr style=\"text-align: right;\">\n",
       "      <th></th>\n",
       "      <th>0</th>\n",
       "      <th>1</th>\n",
       "      <th>2</th>\n",
       "      <th>3</th>\n",
       "      <th>4</th>\n",
       "      <th>5</th>\n",
       "      <th>6</th>\n",
       "    </tr>\n",
       "  </thead>\n",
       "  <tbody>\n",
       "    <tr>\n",
       "      <th>575</th>\n",
       "      <td>-19.344120</td>\n",
       "      <td>-1.415254</td>\n",
       "      <td>4.120229</td>\n",
       "      <td>-1.275557</td>\n",
       "      <td>0.484732</td>\n",
       "      <td>-0.318927</td>\n",
       "      <td>1.558645</td>\n",
       "    </tr>\n",
       "    <tr>\n",
       "      <th>826</th>\n",
       "      <td>-13.531748</td>\n",
       "      <td>-2.216955</td>\n",
       "      <td>3.316246</td>\n",
       "      <td>-0.207453</td>\n",
       "      <td>0.740889</td>\n",
       "      <td>-0.709785</td>\n",
       "      <td>0.994716</td>\n",
       "    </tr>\n",
       "    <tr>\n",
       "      <th>501</th>\n",
       "      <td>-22.747065</td>\n",
       "      <td>-2.388673</td>\n",
       "      <td>-1.499291</td>\n",
       "      <td>-2.784472</td>\n",
       "      <td>0.624037</td>\n",
       "      <td>0.259378</td>\n",
       "      <td>0.966586</td>\n",
       "    </tr>\n",
       "    <tr>\n",
       "      <th>904</th>\n",
       "      <td>-18.268116</td>\n",
       "      <td>0.510119</td>\n",
       "      <td>2.922429</td>\n",
       "      <td>-0.794236</td>\n",
       "      <td>0.980536</td>\n",
       "      <td>0.385480</td>\n",
       "      <td>-0.544872</td>\n",
       "    </tr>\n",
       "    <tr>\n",
       "      <th>602</th>\n",
       "      <td>-18.007117</td>\n",
       "      <td>-1.655474</td>\n",
       "      <td>0.777385</td>\n",
       "      <td>-2.147378</td>\n",
       "      <td>0.888018</td>\n",
       "      <td>-0.338446</td>\n",
       "      <td>1.451803</td>\n",
       "    </tr>\n",
       "    <tr>\n",
       "      <th>...</th>\n",
       "      <td>...</td>\n",
       "      <td>...</td>\n",
       "      <td>...</td>\n",
       "      <td>...</td>\n",
       "      <td>...</td>\n",
       "      <td>...</td>\n",
       "      <td>...</td>\n",
       "    </tr>\n",
       "    <tr>\n",
       "      <th>505</th>\n",
       "      <td>-14.682047</td>\n",
       "      <td>0.466649</td>\n",
       "      <td>0.339883</td>\n",
       "      <td>-1.550703</td>\n",
       "      <td>1.407415</td>\n",
       "      <td>0.090889</td>\n",
       "      <td>0.877262</td>\n",
       "    </tr>\n",
       "    <tr>\n",
       "      <th>540</th>\n",
       "      <td>-17.512990</td>\n",
       "      <td>-1.678886</td>\n",
       "      <td>0.408744</td>\n",
       "      <td>-0.677415</td>\n",
       "      <td>2.074815</td>\n",
       "      <td>1.377641</td>\n",
       "      <td>0.159540</td>\n",
       "    </tr>\n",
       "    <tr>\n",
       "      <th>704</th>\n",
       "      <td>-16.915691</td>\n",
       "      <td>-4.332047</td>\n",
       "      <td>-1.174897</td>\n",
       "      <td>-2.364517</td>\n",
       "      <td>-0.421128</td>\n",
       "      <td>0.831757</td>\n",
       "      <td>1.284550</td>\n",
       "    </tr>\n",
       "    <tr>\n",
       "      <th>869</th>\n",
       "      <td>-16.390626</td>\n",
       "      <td>-1.420599</td>\n",
       "      <td>-0.749833</td>\n",
       "      <td>-1.249156</td>\n",
       "      <td>1.320532</td>\n",
       "      <td>-0.799960</td>\n",
       "      <td>0.509271</td>\n",
       "    </tr>\n",
       "    <tr>\n",
       "      <th>536</th>\n",
       "      <td>-19.404469</td>\n",
       "      <td>-0.275846</td>\n",
       "      <td>2.951406</td>\n",
       "      <td>0.819608</td>\n",
       "      <td>0.995025</td>\n",
       "      <td>1.006772</td>\n",
       "      <td>1.141400</td>\n",
       "    </tr>\n",
       "  </tbody>\n",
       "</table>\n",
       "<p>318 rows × 7 columns</p>\n",
       "</div>"
      ]
     },
     "execution_count": 54,
     "metadata": {},
     "output_type": "execute_result"
    }
   ],
   "execution_count": 54
  },
  {
   "metadata": {},
   "cell_type": "markdown",
   "source": "#### Gaussian Naive Bayes"
  },
  {
   "metadata": {},
   "cell_type": "markdown",
   "source": "##### Params Gauß"
  },
  {
   "metadata": {
    "ExecuteTime": {
     "end_time": "2024-11-12T15:05:38.891143Z",
     "start_time": "2024-11-12T15:05:38.880766Z"
    }
   },
   "cell_type": "code",
   "source": [
    "var_bush = xt_bush.var()\n",
    "var_not_bush = xt_no_bush.var()\n",
    "\n",
    "mean_bush = xt_bush.mean()\n",
    "mean_not_bush = xt_no_bush.mean()\n",
    "\n",
    "print(\" | std_bush:\\t\\t| std_not_bush:\\t\\t| mean_bush:\\t\\t| mean_not_bush\")\n",
    "for i in range(len(var_bush)):\n",
    "    print(\n",
    "        f\"{i}|{var_bush[i]}\\t|{var_not_bush[i]}\\t|{mean_bush[i]}\\t|{mean_not_bush[i]}\")"
   ],
   "outputs": [
    {
     "name": "stdout",
     "output_type": "stream",
     "text": [
      " | std_bush:\t\t| std_not_bush:\t\t| mean_bush:\t\t| mean_not_bush\n",
      "0|5.469988074100909\t|5.182013860742762\t|-17.01414266731485\t|-16.867208246725443\n",
      "1|1.907002259646993\t|2.8641568677476914\t|-1.545410575117109\t|-1.787960695129282\n",
      "2|2.2207715389651184\t|1.3967750614561631\t|0.5938308831730903\t|0.5855161977230885\n",
      "3|0.6126840115680285\t|1.6268962319540026\t|-1.7040262753745754\t|-1.2054154521595148\n",
      "4|0.59294633819256\t|0.5807092126290824\t|0.6433183962363612\t|-0.10145599908428776\n",
      "5|0.5216871100248806\t|0.4409102200727749\t|0.013446519048758989\t|0.03110893763194608\n",
      "6|0.5298782947772921\t|0.5049740345750292\t|0.7901420367705547\t|0.6349478008024774\n"
     ]
    }
   ],
   "execution_count": 55
  },
  {
   "metadata": {},
   "cell_type": "markdown",
   "source": "##### Klassification"
  },
  {
   "metadata": {
    "ExecuteTime": {
     "end_time": "2024-11-12T15:05:38.982410Z",
     "start_time": "2024-11-12T15:05:38.966285Z"
    }
   },
   "cell_type": "code",
   "source": [
    "def gnb(data, mean1, var1, a_priori1, mean2, var2, a_priori2):\n",
    "    p_1 = []\n",
    "    p_2 = []\n",
    "    labels_estimated = []\n",
    "\n",
    "    for index, row in data.iterrows():\n",
    "        p_1_feature = 0\n",
    "        p_2_feature = 0\n",
    "        for i in range(len(mean1)):\n",
    "            #print(scipy.stats.norm.pdf(row[i], mean1[i], var1[i]) * a_priori1)\n",
    "            p_1_feature = p_1_feature + np.log(\n",
    "                scipy.stats.norm.pdf(row[i], mean1[i], var1[i]))  #* a_priori1)\n",
    "            p_2_feature = p_2_feature + np.log(\n",
    "                scipy.stats.norm.pdf(row[i], mean2[i], var2[i]))  #* a_priori2)\n",
    "\n",
    "        p_1_feature = p_1_feature + np.log(a_priori1)\n",
    "        p_2_feature = p_2_feature + np.log(a_priori2)\n",
    "\n",
    "        p_1.append(p_1_feature)\n",
    "        p_2.append(p_2_feature)\n",
    "        if p_1_feature > p_2_feature:\n",
    "            labels_estimated.append(1)\n",
    "        else:\n",
    "            labels_estimated.append(-1)\n",
    "\n",
    "    return [p_1, p_2, labels_estimated]"
   ],
   "outputs": [],
   "execution_count": 56
  },
  {
   "metadata": {
    "ExecuteTime": {
     "end_time": "2024-11-12T15:05:40.070015Z",
     "start_time": "2024-11-12T15:05:39.043829Z"
    }
   },
   "cell_type": "code",
   "source": [
    "[p_bush_test, p_not_bush_test, labels_estimated_test] = gnb(xte, mean_bush, var_bush, A_priori_bush, mean_not_bush,\n",
    "                                                            var_not_bush, A_priori_not_bush)\n",
    "\n",
    "xte[\"P_bush\"] = p_bush_test\n",
    "xte[\"P_not_bush\"] = p_not_bush_test\n",
    "xte[\"Labels_estimated\"] = labels_estimated_test\n",
    "\n",
    "[p_bush_train, p_not_bush_train, labels_estimated_train] = gnb(xt, mean_bush, var_bush, A_priori_bush, mean_not_bush,\n",
    "                                                               var_not_bush, A_priori_not_bush)\n",
    "\n",
    "xt[\"P_bush\"] = p_bush_train\n",
    "xt[\"P_not_bush\"] = p_not_bush_train\n",
    "xt[\"Labels_estimated\"] = labels_estimated_train"
   ],
   "outputs": [],
   "execution_count": 57
  },
  {
   "metadata": {
    "ExecuteTime": {
     "end_time": "2024-11-12T15:36:43.978713Z",
     "start_time": "2024-11-12T15:36:43.881302Z"
    }
   },
   "cell_type": "code",
   "source": [
    "eigengesicht = 0\n",
    "x = np.arange(-40, 10, 0.1)\n",
    "norm_yte = scipy.stats.norm.pdf(x, mean_bush[eigengesicht], var_bush[eigengesicht])\n",
    "norm_yte_hat = scipy.stats.norm.pdf(x, mean_not_bush[eigengesicht], var_not_bush[eigengesicht])\n",
    "\n",
    "plt.figure(figsize=(10, 6))\n",
    "plt.plot(x, norm_yte, label='bush')\n",
    "plt.plot(x, norm_yte_hat, label='not bush')\n",
    "\n",
    "plt.legend()\n",
    "plt.show()"
   ],
   "outputs": [
    {
     "data": {
      "text/plain": [
       "<Figure size 1000x600 with 1 Axes>"
      ],
      "image/png": "[encoded data removed]"
     },
     "metadata": {},
     "output_type": "display_data"
    }
   ],
   "execution_count": 62
  },
  {
   "metadata": {
    "ExecuteTime": {
     "end_time": "2024-11-12T15:05:40.201891Z",
     "start_time": "2024-11-12T15:05:40.196912Z"
    }
   },
   "cell_type": "code",
   "source": [
    "def metriken(xt):\n",
    "    true_positive = ((xt[\"Labels\"] == 1) & (xt[\"Labels_estimated\"] == 1)).sum()  # TP\n",
    "    true_negative = ((xt[\"Labels\"] == -1) & (xt[\"Labels_estimated\"] == -1)).sum()  # TN\n",
    "    false_positive = ((xt[\"Labels\"] == -1) & (xt[\"Labels_estimated\"] == 1)).sum()  # FP\n",
    "    false_negative = ((xt[\"Labels\"] == 1) & (xt[\"Labels_estimated\"] == -1)).sum()  # FN\n",
    "\n",
    "    detektionswahrscheinlichkeit = true_positive / (true_positive + false_negative) if (\n",
    "                                                                                               true_positive + false_negative) > 0 else 0\n",
    "    richtig_negativ_rate = true_negative / (true_negative + false_positive) if (\n",
    "                                                                                       true_negative + false_positive) > 0 else 0\n",
    "    fehlalarmrate = false_positive / (false_positive + true_negative) if (false_positive + true_negative) > 0 else 0\n",
    "    falsch_negativ_rate = false_negative / (true_positive + false_negative) if (\n",
    "                                                                                       true_positive + false_negative) > 0 else 0\n",
    "\n",
    "    print(f\"Detektionswahrscheinlichkeit (True Positive Rate): {detektionswahrscheinlichkeit:.2%}\")\n",
    "    print(f\"Richtig-Negativ-Rate (True Negative Rate): {richtig_negativ_rate:.2%}\")\n",
    "    print(f\"Fehlalarmrate (False Positive Rate): {fehlalarmrate:.2%}\")\n",
    "    print(f\"Falsch-Negativ-Rate (False Negative Rate): {falsch_negativ_rate:.2%}\")\n"
   ],
   "outputs": [],
   "execution_count": 59
  },
  {
   "metadata": {
    "ExecuteTime": {
     "end_time": "2024-11-12T15:05:40.240286Z",
     "start_time": "2024-11-12T15:05:40.233932Z"
    }
   },
   "cell_type": "code",
   "source": "metriken(xt)",
   "outputs": [
    {
     "name": "stdout",
     "output_type": "stream",
     "text": [
      "Detektionswahrscheinlichkeit (True Positive Rate): 71.38%\n",
      "Richtig-Negativ-Rate (True Negative Rate): 82.16%\n",
      "Fehlalarmrate (False Positive Rate): 17.84%\n",
      "Falsch-Negativ-Rate (False Negative Rate): 28.62%\n"
     ]
    }
   ],
   "execution_count": 60
  },
  {
   "metadata": {
    "ExecuteTime": {
     "end_time": "2024-11-12T15:05:40.283410Z",
     "start_time": "2024-11-12T15:05:40.275705Z"
    }
   },
   "cell_type": "code",
   "source": "metriken(xte)",
   "outputs": [
    {
     "name": "stdout",
     "output_type": "stream",
     "text": [
      "Detektionswahrscheinlichkeit (True Positive Rate): 73.11%\n",
      "Richtig-Negativ-Rate (True Negative Rate): 77.96%\n",
      "Fehlalarmrate (False Positive Rate): 22.04%\n",
      "Falsch-Negativ-Rate (False Negative Rate): 26.89%\n"
     ]
    }
   ],
   "execution_count": 61
  }
 ],
 "metadata": {
  "kernelspec": {
   "display_name": "base",
   "language": "python",
   "name": "python3"
  },
  "language_info": {
   "codemirror_mode": {
    "name": "ipython",
    "version": 3
   },
   "file_extension": ".py",
   "mimetype": "text/x-python",
   "name": "python",
   "nbconvert_exporter": "python",
   "pygments_lexer": "ipython3",
   "version": "3.12.4"
  }
 },
 "nbformat": 4,
 "nbformat_minor": 2
}
